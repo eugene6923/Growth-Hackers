{
 "cells": [
  {
   "cell_type": "code",
   "execution_count": 6,
   "metadata": {},
   "outputs": [],
   "source": [
    "#모듈 불러오기\n",
    "import pandas as pd\n",
    "from scipy import optimize as op\n",
    "import numpy as np"
   ]
  },
  {
   "cell_type": "code",
   "execution_count": 2,
   "metadata": {},
   "outputs": [],
   "source": [
    "#데이터 불러오고 변수 지정하기\n",
    "data = pd.read_csv('C:/Temp/caschool.csv')\n",
    "str=data['str']\n",
    "read_scr=data['read_scr']\n",
    "avginc=data['avginc']"
   ]
  },
  {
   "cell_type": "code",
   "execution_count": 3,
   "metadata": {},
   "outputs": [],
   "source": [
    "#cost function 만들기\n",
    "def f1(beta):  #cost function\n",
    "    J=0\n",
    "    for i in range(len(data)):\n",
    "        J += (beta[0] + beta[1] * str[i] + beta[2] * avginc[i] - str[i]) ** 2\n",
    "    return J/(2*len(data))"
   ]
  },
  {
   "cell_type": "code",
   "execution_count": 4,
   "metadata": {},
   "outputs": [
    {
     "name": "stdout",
     "output_type": "stream",
     "text": [
      "[ 1.82134534e-05  9.99999145e-01 -9.09160563e-08]\n"
     ]
    }
   ],
   "source": [
    "#minimize.cost function\n",
    "result=op.minimize(f1,(2,2,2))['x']\n",
    "print(result)"
   ]
  },
  {
   "cell_type": "code",
   "execution_count": 28,
   "metadata": {},
   "outputs": [
    {
     "name": "stdout",
     "output_type": "stream",
     "text": [
      "(70.0, 2.0, 2.0)\n"
     ]
    }
   ],
   "source": [
    "def f1d(beta) :\n",
    "    J0=0\n",
    "    J1=0\n",
    "    J2=0\n",
    "    for i in range(len(data)):\n",
    "        J0 += (beta[0] + beta[1] * str[i] + beta[2] * avginc[i] - read_scr[i])\n",
    "    for i in range(len(data)):\n",
    "        J1 += (beta[0] + beta[1] * str[i] + beta[2] * avginc[i] - read_scr[i])*str[i]\n",
    "    for i in range(len(data)):\n",
    "        J2 += (beta[0] + beta[1] * str[i] + beta[2] * avginc[i] - read_scr[i])*avginc[i]\n",
    "    return np.array([J0/len(data),J1/len(data),J2/len(data)])\n",
    "\n",
    "# print(f1([1,2,1]))\n",
    "# print(f1d([3,1,2]))\n",
    "\n",
    "alpha = 0.0000000000000000000000000000000000000000000000000000003123\n",
    "initial=[70,2,2]\n",
    "temp=(initial[0]-alpha*f1d(initial)[0],initial[1]-alpha*f1d(initial)[1],initial[2]-alpha*f1d(initial)[2])\n",
    "\n",
    "if (f1(temp)>f1(initial)):\n",
    "    print (\"learning rate is too large\")\n",
    "else :\n",
    "    while(True):\n",
    "        g=f1(initial)\n",
    "        temp = (initial[0] - alpha * f1d(initial)[0], initial[1] - alpha * f1d(initial)[1],\n",
    "                initial[2] - alpha * f1d(initial)[2])\n",
    "        if (g-f1(temp)< 0.00000005):\n",
    "            print(temp)\n",
    "            break\n",
    "        initial = temp"
   ]
  },
  {
   "cell_type": "code",
   "execution_count": null,
   "metadata": {},
   "outputs": [],
   "source": []
  }
 ],
 "metadata": {
  "kernelspec": {
   "display_name": "Python 3",
   "language": "python",
   "name": "python3"
  },
  "language_info": {
   "codemirror_mode": {
    "name": "ipython",
    "version": 3
   },
   "file_extension": ".py",
   "mimetype": "text/x-python",
   "name": "python",
   "nbconvert_exporter": "python",
   "pygments_lexer": "ipython3",
   "version": "3.6.6"
  }
 },
 "nbformat": 4,
 "nbformat_minor": 2
}
