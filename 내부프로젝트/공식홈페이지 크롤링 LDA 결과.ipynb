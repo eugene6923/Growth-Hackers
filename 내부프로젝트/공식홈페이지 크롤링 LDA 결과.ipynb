{
 "cells": [
  {
   "cell_type": "code",
   "execution_count": 1,
   "metadata": {},
   "outputs": [
    {
     "name": "stderr",
     "output_type": "stream",
     "text": [
      "C:\\Users\\KYH\\Anaconda3\\lib\\site-packages\\gensim\\utils.py:1212: UserWarning: detected Windows; aliasing chunkize to chunkize_serial\n",
      "  warnings.warn(\"detected Windows; aliasing chunkize to chunkize_serial\")\n"
     ]
    }
   ],
   "source": [
    "# Run in python console\n",
    "import nltk\n",
    "\n",
    "import re\n",
    "import numpy as np\n",
    "import pandas as pd\n",
    "from pprint import pprint\n",
    "\n",
    "# Gensim\n",
    "import gensim\n",
    "import gensim.corpora as corpora\n",
    "from gensim.utils import simple_preprocess\n",
    "from gensim.models import CoherenceModel\n",
    "\n",
    "# spacy for lemmatization\n",
    "import spacy\n",
    "\n",
    "# Plotting tools\n",
    "import pyLDAvis\n",
    "import pyLDAvis.gensim  # don't skip this\n",
    "import matplotlib.pyplot as plt\n",
    "\n",
    "\n",
    "# Enable logging for gensim - optional\n",
    "import logging\n",
    "\n",
    "logging.basicConfig(format='%(asctime)s : %(levelname)s : %(message)s', level=logging.ERROR)\n",
    "\n",
    "import warnings\n",
    "warnings.filterwarnings(\"ignore\", category=DeprecationWarning)\n",
    "warnings.filterwarnings(action='ignore', category=UserWarning, module='gensim')\n",
    "\n",
    "#nltk.download('stopwords')\n",
    "# nltk.download('punkt') \n",
    "# nltk.download('averaged_perceptron_tagger')\n",
    "\n",
    "# NLTK Stop words\n",
    "from nltk.corpus import stopwords"
   ]
  },
  {
   "cell_type": "code",
   "execution_count": 35,
   "metadata": {},
   "outputs": [],
   "source": [
    "#불용단어 준비\n",
    "stop_words = stopwords.words('english')\n",
    "stop_words.extend(['http','https','make','captain','trailer','theater','ticket','studio','marvel','captainmarvel','good','www','review','bad','weekend','galaxy','avengers','war','marvel','watch','movie','get','time','film','see','new','avenger','go','office','box','infinity']) #여기는 우리가 불용단어 추가하면 된다.\n",
    "# print(stop_words)"
   ]
  },
  {
   "cell_type": "code",
   "execution_count": 16,
   "metadata": {},
   "outputs": [
    {
     "name": "stdout",
     "output_type": "stream",
     "text": [
      "['Exclusive:', 'The', 'Mighty', 'Bursts', 'Onto', 'the', 'Scene', 'w/Video', 'Series', '&', 'Music', 'From', 'Glass', 'Candy', \"They're\", 'back.', 'Watch', 'the', 'extended', 'Big', 'Game', 'spot...', 'obviously', 'Action...', \"Here's\", 'your', 'first', 'look', 'at', 'the', 'teaser', 'poster', 'for', 'Marvel', 'Studios’', ',', 'in', 'theaters', 'March', '8,', '2019', 'soars', 'into', 'the', 'Cinematic', 'Universe', 'HERO.', 'LEGEND.', 'KING.', 'Watch', 'the', 'teaser', 'trailer', 'now', 'OFFICIAL:', 'Nicole', 'Perlman', '&', 'Meg', 'LeFauve', 'to', 'co-write', ',', 'coming', 'November', '2,', '2018', 'Happy', 'to', 'this', 'amazing', 'hero', \"'Tis\", 'the', 'season', 'for', 'gingerbread', 'cookies', '—', 'Marvel-style', 'ǝƃuɐɹʇSɹoʇɔop#', '¿uʍop', 'ǝpᴉsdn', 'pǝuɹnʇ', 'plɹoʍ', 'ɹnoʎ', 'ǝʌɐɥ', 'oʇ', 'ʎpɐǝɹ', 'noʎ', 'ǝɹ∀', 'I', 'did', 'a', 'variant', 'for', 'Captain', 'Marvel', '#3', 'with', 'Marvel', 'Studios', 'kicks', 'off', 'its', 'yearlong', '10th', 'anniversary', 'celebration', 'with', 'a', 'behind-the-scenes', 'look', 'at', 'the', 'class', 'photo', 'featuring', '79', 'actors', 'and', 'filmmakers', 'from', 'across', 'the', 'Marvel', 'Cinematic', 'Universe', 'Get', 'up', 'to', 'speed', 'on', '\"The', 'Mighty', 'Captain', 'Marvel\"', 'with', 'and', 'in', 'this', 'new', 'video', 'featuring', 'music', 'from', 'Long', 'live', 'the', 'king.', 'Watch', 'the', 'new', 'trailer', 'for', 'Marvel', \"Studios'\", '.', 'In', 'theaters', 'February', '16', 'A', 'special', 'message', 'for', 'the', 'fans.', 'Find', 'out', 'how', 'you', 'can', 'enter', 'the', 'Marvel', 'Studios', 'Ultimate', 'Fan', 'Sweepstakes', 'for', 'a', 'chance', 'to', 'win', 'a', 'trip', 'to', 'the', ':', 'Premiere,', 'a', 'tour', 'of', 'Marvel', 'Studios,', 'set', 'visit,', 'and', 'more!', 'See', 'official', 'rules:', 'Thank', 'you', 'to', 'all', 'our', 'fans', 'for', 'your', 'support!', '109', 'million', 'global', 'views', 'for', 'the', 'Marvel', \"Studios'\", 'trailer', 'in', '24', 'hours.', 'Higher.', 'Further.', 'Faster', '#5', 'is', 'available', 'on', 'a', 't-shirt', 'for', '5', 'more', 'days!', 'Get', 'it', 'here:', \"It's\", 'time', 'to', 'rise', 'together.', 'The', 'next', 'generation', 'of', 'Marvel', 'heroes', 'arrive', 'in', '\":', 'Secret', 'Warriors,\"', 'premiering', 'September', '30', 'at', '10pm', 'on', 'and', 'Happy', 'Birthday', 'to', 'our', 'Captain', 'Marvel,', 'Higher.', 'Further.', 'Faster.', 'Watch', 'the', 'trailer', 'for', 'Marvel', 'Studios’', ',', 'in', 'theaters', 'March', '8,', '2019', 'Catch', 'Major', 'Carol', 'Danvers', 'in', 'the', 'new', 'Infinite,', 'with', 'a', 'new', 'costume', 'exclusively', 'available', 'for', 'PlayStation', '4', 'Experience', 'the', 'worldwide', 'phenomenon.', 'Be', 'the', 'first', 'to', 'bring', 'home', 'Marvel', 'Studios’', 'on', 'Digital,', ',', 'and', '4K', 'UHD', 'May', '8', 'and', 'Blu-ray', 'May', '15:', 'Watch', 'the', 'new', 'Marvel', 'Studios’', ':', 'trailer.', 'Get', 'your', 'tickets', 'now:', 'Marvel', \"Studios'\", '\"Avengers:', '\"', 'in', 'theaters', 'everywhere', 'April', '27th', 'LARSON', 'INDUSTRIES', 'R&D', 'DEPT.', ':', '10', 'years', 'in', 'the', 'making', \"It's\", 'main', 'event', 'time.', 'Get', 'your', 'tickets', 'NOW:', \"Valentine's\", 'Day', 'is', 'Tuesday!', 'Whip', 'up', 'these', 'Marvel-themed', 'dipped', 'strawberries', 'by', '\\u200b', 'for', 'your', 'sweetheart', '-', 'or,', 'you', 'know,', 'yourself', 'Destiny', 'arrives.', 'Get', 'tickets', 'to', 'Marvel', 'Studios’', '\"Avengers:', '\"', 'now:', 'Watch', 'the', 'brand-new', 'trailer', 'that', 'just', 'debuted', 'at', 'in', 'Hall', 'H', 'See', ',', 'Jude', 'Law', 'and', 'in', 'these', '10', 'exclusive', 'new', 'photos', 'from', ':', 'Play', 'as', 'Captain', 'Marvel', 'in', 'the', 'just', 'announced', '\"Marvel', 'vs.', 'Capcom:', 'Infinite\"', 'video', 'game,', 'coming', 'soon', 'Real', 'heroes.', 'Not', 'actual', 'size.', 'Watch', 'the', 'Marvel', \"Studios'\", '\"#AntMan', 'and', '#TheWasp\"', 'red', 'carpet', 'coverage', 'LIVE', 'from', 'Hollywood,', 'in', 'partnership', 'with', '@MarvelStrikeF!', 'Stay', 'tuned', 'for', 'interviews,', 'games,', 'and', 'more', 'with', 'the', 'cast.', 'https://www.pscp.tv/AntMan/1yNGaXznQkjKj', '…', '#AntManAndTheWasp', 'Marvel', 'and', 'The', 'Walt', 'Disney', 'Company', 'salute', 'the', 'life', 'and', 'career', 'of', 'Stan', 'Lee', 'and', 'offer', 'our', 'undying', 'gratitude', 'for', 'his', 'unmatchable', 'accomplishments', 'within', 'our', 'halls.', 'Every', 'time', 'you', 'open', 'a', 'Marvel', 'comic,', 'Stan', 'will', 'be', 'there.', 'Please', 'join', 'us', 'in', 'remembering', 'Stan', '\"The', 'Man\"', 'Lee', 'Meet', 'the', 'newest', 'member', 'of', 'the', ',', 'born', '11hrs', 'ago.', \"She's\", 'going', 'to', 'punch', 'holes', 'in', 'the', 'sky.', 'cc', 'Get', 'ready', 'to', 'save', 'the', 'galaxy', 'again!', 'comes', 'to', 'Digital', 'Aug', '8,', 'Blu-ray', 'Aug', '22,', 'and', 'new', 'to', '4K', 'UHD.', 'Pre-order:', 'Check', 'out', 'the', 'new', 'poster', 'and', 'tune', 'in', 'to', 'game', 'four', 'tonight', 'to', 'see', 'the', 'world', 'premiere', 'of', 'the', 'teaser', 'trailer!', 'Witness', 'the', 'legend', 'Anna', 'Boden', 'and', 'Ryan', 'Fleck', 'sign', 'on', 'to', 'direct', 'Marvel', \"Studios'\", '#CaptainMarvel!http://bit.ly/2pSWlFo', 'Learn', 'more', 'about', 'from', 'the', 'comics,', 'following', \"'s\", 'big', 'announcement:', \"They're\", 'back.', 'Check', 'out', 'the', 'brand', 'new', 'poster', 'for', 'of', 'the', 'Galaxy', 'Vol.', '2', 'It’s', 'time', 'to', 'suit', 'up.', 'Watch', 'the', 'official', 'trailer', 'now', 'and', 'see', 'the', 'movie', 'in', 'theaters', 'July', '7', 'Production', 'has', 'begun', 'on', 'Marvel', \"Studios'\", '...', 'receives', 'instructions', 'from', 'Brigadier', 'General', 'Jeannie', 'Leavitt,', '57th', 'Wing', 'Commander', 'on', 'a', 'recent', 'visit', 'to', 'Nellis', 'Air', 'Force', 'Base', 'in', 'Nevada', 'to', 'research', 'her', 'character', 'Obviously', 'The', 'future', 'is', 'female!', 'Here’s', 'your', 'exclusive', 'first', 'look', 'at', 'as', ',', 'the', 'galaxy’s', 'newest', '—', 'and', 'most', 'powerful', '—', 'star:', '“There', 'was', 'an', 'idea…”', 'Marvel', \"Studios'\", '\"Avengers:', '\"', 'in', 'theaters', 'May', '4', 'It’s', 'showtime.', 'Watch', 'the', 'brand', 'new', 'Guardians', 'of', 'the', 'Galaxy', 'Vol.', '2', 'teaser', 'trailer.', 'Obviously', 'Join', 'the', 'celebration', '&', 'enter', 'the', 'Marvel', 'Studios', 'Ultimate', 'fan', 'sweepstakes.', 'Tweet', 'your', 'favorite', 'memory', 'or', 'your', 'own', 'personal', 'photo', 'w/', '&', 'for', 'a', 'chance', 'to', 'win', 'a', 'trip', 'to', 'the', 'premiere', '&', 'more!', 'Rules:', 'Long', 'live', 'the', 'king.', 'Marvel', \"Studios'\", 'tickets', 'are', 'now', 'available:', 'Meet', 'your', ':', \"Marvel's\", '#AntMan', 'gets', 'a', 'sequel,', 'and', 'more', 'Marvel', 'Cinematic', 'Universe', 'Phase', '3', 'Updates!', 'Get', 'all', 'the', 'updates,', 'here:http://bit.ly/1WPqL6K', '\"Because', 'when', \"you're\", 'invincible...you', 'can', 'do', 'anything', 'you', 'think', 'of.\"', '-', 'Carol', 'Danvers', 'Call', 'me', 'Captain', 'Marvel', 'Trailer', 'tomorrow', 'Real', 'heroes.', 'Not', 'actual', 'size.', 'Watch', 'the', 'brand', 'new', 'trailer', 'for', 'Marvel', \"Studios'\", '\"Ant-Man', 'and', 'the', 'Wasp,\"', 'in', 'theaters', 'July', '6th']\n"
     ]
    }
   ],
   "source": [
    "# Import Dataset\n",
    "def to_table(filename):\n",
    "    with open(filename, 'r',encoding='UTF8') as apple:\n",
    "        a = []\n",
    "        for apps in apple.readlines():\n",
    "            b = (apps.strip())\n",
    "            b = b.strip('.,?!;-')\n",
    "            a.append(b)\n",
    "            line_list = []\n",
    "            for line in a:\n",
    "                line = line.strip('.,?!;-')\n",
    "                line_list += line.split()\n",
    "    return line_list\n",
    "\n",
    "df = to_table('captain marvel twitter.txt')\n",
    "# print(df)"
   ]
  },
  {
   "cell_type": "code",
   "execution_count": 17,
   "metadata": {},
   "outputs": [],
   "source": [
    "tmp = []\n",
    "for i in df:\n",
    "    i = i.strip('.,?!;-').lower()\n",
    "    texts = nltk.word_tokenize(i)\n",
    "    tmp += nltk.pos_tag(texts)\n",
    "\n",
    "# print(tmp)"
   ]
  },
  {
   "cell_type": "code",
   "execution_count": 6,
   "metadata": {},
   "outputs": [],
   "source": [
    "# http://sens.tistory.com/454 참조, 형태소따라 나누기\n",
    "def pos_extractor(parsed):\n",
    "\n",
    "    noun_list = []\n",
    "    adj_list = []\n",
    "    verb_list = []\n",
    "    nav_list = []\n",
    "    adv_list = []\n",
    "\n",
    "    for i in parsed:\n",
    "\n",
    "        if i[1] in ['NN', 'NNS', 'NNP', 'NNPS']:\n",
    "            noun_list.append(i[0])\n",
    "            nav_list.append(i[0])\n",
    "        elif i[1] in ['JJ', 'JJR', 'JJS']:\n",
    "            adj_list.append(i[0])\n",
    "            nav_list.append(i[0])\n",
    "        elif i[1] in ['VB', 'VBD', 'VBG', 'VBN', 'VBP', 'VBZ']:\n",
    "            verb_list.append(i[0])\n",
    "            nav_list.append(i[0])\n",
    "        elif i[1] == ['RB', 'RBR', 'RBS']:\n",
    "            adv_list.append(i[0])\n",
    "            nav_list.append(i[0])\n",
    "\n",
    "        else:\n",
    "            pass\n",
    "\n",
    "    return [nav_list, noun_list, adj_list,\n",
    "            verb_list]  "
   ]
  },
  {
   "cell_type": "code",
   "execution_count": 26,
   "metadata": {},
   "outputs": [
    {
     "name": "stdout",
     "output_type": "stream",
     "text": [
      "['exclusive', 'mighty', 'bursts', 'scene', 'w/video', 'series', 'music', 'glass', 'candy', \"'re\", 'watch', 'extended', 'big', 'game', 'spot', 'action', 'look', 'teaser', 'poster', 'marvel', 'studios', '’', 'theaters', 'march', 'soars', 'cinematic', 'universe', 'hero', 'legend', 'king', 'watch', 'teaser', 'trailer', 'official', 'nicole', 'perlman', 'meg', 'lefauve', 'co-write', 'coming', 'november', 'happy', 'amazing', 'hero', 'is', 'season', 'gingerbread', 'cookies', '—', 'marvel-style', '¿uʍop', 'ǝpᴉsdn', 'pǝuɹnʇ', 'plɹoʍ', 'ɹnoʎ', 'ǝʌɐɥ', 'oʇ', 'ʎpɐǝɹ', 'noʎ', 'ǝɹ∀', 'i', 'did', 'variant', 'captain', 'marvel', 'marvel', 'studios', 'kicks', '10th', 'anniversary', 'celebration', 'behind-the-scenes', 'look', 'class', 'photo', 'featuring', 'actors', 'filmmakers', 'marvel', 'cinematic', 'universe', 'get', 'speed', 'mighty', 'captain', 'marvel', 'new', 'video', 'featuring', 'music', 'live', 'king', 'watch', 'new', 'trailer', 'marvel', 'studios', 'theaters', 'february', 'special', 'message', 'fans', 'find', 'enter', 'marvel', 'studios', 'ultimate', 'fan', 'sweepstakes', 'chance', 'win', 'trip', 'tour', 'marvel', 'studios', 'set', 'visit', 'see', 'official', 'rules', 'thank', 'fans', 'support', 'global', 'views', 'marvel', 'studios', 'trailer', 'hours', 'higher', 'faster', 'is', 'available', 't-shirt', 'days', 'get', \"'s\", 'time', 'rise', 'next', 'generation', 'marvel', 'heroes', 'arrive', 'secret', 'warriors', 'premiering', 'september', 'happy', 'birthday', 'captain', 'marvel', 'higher', 'faster', 'watch', 'trailer', 'marvel', 'studios', '’', 'theaters', 'march', 'catch', 'major', 'carol', 'danvers', 'new', 'infinite', 'new', 'costume', 'available', 'playstation', 'experience', 'worldwide', 'phenomenon', 'be', 'bring', 'home', 'marvel', 'studios', '’', 'digital', 'uhd', 'blu-ray', 'watch', 'new', 'marvel', 'studios', '’', 'trailer', 'get', 'tickets', 'marvel', 'studios', 'avengers', 'theaters', 'april', 'larson', 'industries', 'r', 'd', 'dept', 'years', 'making', \"'s\", 'main', 'event', 'time', 'get', 'tickets', 'valentine', 'day', 'is', 'tuesday', 'whip', 'marvel-themed', 'dipped', 'strawberries', '\\u200b', 'sweetheart', 'know', 'destiny', 'arrives', 'get', 'tickets', 'marvel', 'studios', '’', 'avengers', 'watch', 'brand-new', 'trailer', 'debuted', 'hall', 'h', 'see', 'jude', 'law', 'exclusive', 'new', 'photos', 'play', 'captain', 'marvel', 'announced', 'marvel', 'vs', 'capcom', 'infinite', 'video', 'game', 'coming', 'real', 'heroes', 'actual', 'size', 'watch', 'marvel', 'studios', 'antman', 'thewasp', 'red', 'carpet', 'coverage', 'live', 'hollywood', 'partnership', '@', 'marvelstrikef', 'stay', 'tuned', 'interviews', 'games', 'cast', 'https', '//www.pscp.tv/antman/1yngaxznqkjkj', '…', 'antmanandthewasp', 'marvel', 'walt', 'disney', 'company', 'salute', 'life', 'career', 'stan', 'lee', 'offer', 'undying', 'gratitude', 'unmatchable', 'accomplishments', 'halls', 'time', 'open', 'marvel', 'comic', 'stan', 'be', 'please', 'join', 'remembering', 'stan', 'man', 'lee', 'meet', 'newest', 'member', 'born', \"'s\", 'going', 'punch', 'holes', 'sky', 'cc', 'get', 'ready', 'save', 'galaxy', 'comes', 'digital', 'aug', 'blu-ray', 'aug', 'new', 'uhd', 'pre-order', 'check', 'new', 'poster', 'tune', 'game', 'tonight', 'see', 'world', 'teaser', 'trailer', 'witness', 'legend', 'anna', 'boden', 'ryan', 'fleck', 'sign', 'direct', 'marvel', 'studios', 'captainmarvel', 'http', '//bit.ly/2pswlfo', 'learn', 'comics', 'following', 'big', 'announcement', \"'re\", 'check', 'brand', 'new', 'poster', 'galaxy', 'vol', '’', 's', 'time', 'suit', 'watch', 'official', 'trailer', 'see', 'movie', 'theaters', 'july', 'production', 'has', 'begun', 'marvel', 'studios', 'receives', 'instructions', 'brigadier', 'general', 'jeannie', 'leavitt', '57th', 'wing', 'commander', 'recent', 'visit', 'nellis', 'air', 'force', 'base', 'nevada', 'research', 'character', 'future', 'is', 'female', 's', 'exclusive', 'look', 'galaxy', 's', 'newest', '—', 'most', 'powerful', '—', 'star', '“', 'was', 'idea…', '”', 'marvel', 'studios', 'avengers', 'theaters', '’', 's', 'showtime', 'watch', 'brand', 'new', 'guardians', 'galaxy', 'vol', 'teaser', 'trailer', 'join', 'celebration', 'enter', 'marvel', 'studios', 'ultimate', 'fan', 'sweepstakes', 'tweet', 'favorite', 'memory', 'own', 'personal', 'photo', 'w/', 'chance', 'win', 'trip', 'rules', 'live', 'king', 'marvel', 'studios', 'tickets', 'are', 'available', 'meet', 'marvel', 'antman', 'gets', 'sequel', 'marvel', 'cinematic', 'universe', 'phase', 'updates', 'get', 'updates', 'http', '//bit.ly/1wpql6k', \"'re\", 'invincible', 'do', 'anything', 'think', 'carol', 'danvers', 'call', 'captain', 'marvel', 'trailer', 'tomorrow', 'real', 'heroes', 'actual', 'size', 'watch', 'brand', 'new', 'trailer', 'marvel', 'studios', 'ant-man', 'wasp', 'theaters', 'july']\n"
     ]
    }
   ],
   "source": [
    "# print(pos_extractor(tmp))\n",
    "\n",
    "data_words = list(pos_extractor(tmp)[0])\n",
    "print(data_words)"
   ]
  },
  {
   "cell_type": "code",
   "execution_count": 8,
   "metadata": {},
   "outputs": [],
   "source": [
    "# Build the bigram and trigram models\n",
    "bigram = gensim.models.Phrases(data_words, min_count=5, threshold=100)  # higher threshold fewer phrases.\n",
    "trigram = gensim.models.Phrases(bigram[data_words], threshold=100)\n",
    "\n",
    "# Faster way to get a sentence clubbed as a trigram/bigram\n",
    "bigram_mod = gensim.models.phrases.Phraser(bigram)\n",
    "trigram_mod = gensim.models.phrases.Phraser(trigram)\n",
    "\n",
    "# print(data_words)\n",
    "# print(trigram_mod[bigram_mod[data_words]])"
   ]
  },
  {
   "cell_type": "code",
   "execution_count": 9,
   "metadata": {},
   "outputs": [],
   "source": [
    "# Define functions for stopwords, bigrams, trigrams and lemmatization\n",
    "def remove_stopwords(texts):\n",
    "    return [[word for word in simple_preprocess(str(doc)) if word not in stop_words] for doc in texts]\n",
    "\n",
    "\n",
    "def make_bigrams(texts):\n",
    "    return [bigram_mod[doc] for doc in texts]\n",
    "\n",
    "\n",
    "def make_trigrams(texts):\n",
    "    return [trigram_mod[bigram_mod[doc]] for doc in texts]\n",
    "\n",
    "\n",
    "def lemmatization(texts, allowed_postags=['NOUN', 'ADJ', 'VERB', 'ADV']):\n",
    "    \"\"\"https://spacy.io/api/annotation\"\"\"\n",
    "    texts_out = []\n",
    "    for sent in texts:\n",
    "        doc = nlp(\" \".join(sent))\n",
    "        texts_out.append([token.lemma_ for token in doc if token.pos_ in allowed_postags])\n",
    "    return texts_out"
   ]
  },
  {
   "cell_type": "code",
   "execution_count": 36,
   "metadata": {},
   "outputs": [],
   "source": [
    "data_words_nostops = remove_stopwords(data_words)"
   ]
  },
  {
   "cell_type": "code",
   "execution_count": 37,
   "metadata": {},
   "outputs": [
    {
     "name": "stdout",
     "output_type": "stream",
     "text": [
      "[['exclusive'], ['mighty'], ['bursts'], ['scene'], ['video'], ['series'], ['music'], ['glass'], ['candy'], [], [], ['extended'], ['big'], ['game'], ['spot'], ['action'], ['look'], ['teaser'], ['poster'], [], ['studios'], [], ['theaters'], ['march'], ['soars'], ['cinematic'], ['universe'], ['hero'], ['legend'], ['king'], [], ['teaser'], [], ['official'], ['nicole'], ['perlman'], ['meg'], ['lefauve'], ['co', 'write'], ['coming'], ['november'], ['happy'], ['amazing'], ['hero'], [], ['season'], ['gingerbread'], ['cookies'], [], ['style'], ['uʍop'], ['ǝpᴉsdn'], ['pǝuɹnʇ'], ['plɹoʍ'], ['ɹnoʎ'], ['ǝʌɐɥ'], ['oʇ'], ['ʎpɐǝɹ'], ['noʎ'], ['ǝɹ'], [], [], ['variant'], [], [], [], ['studios'], ['kicks'], ['th'], ['anniversary'], ['celebration'], ['behind', 'scenes'], ['look'], ['class'], ['photo'], ['featuring'], ['actors'], ['filmmakers'], [], ['cinematic'], ['universe'], [], ['speed'], ['mighty'], [], [], [], ['video'], ['featuring'], ['music'], ['live'], ['king'], [], [], [], [], ['studios'], ['theaters'], ['february'], ['special'], ['message'], ['fans'], ['find'], ['enter'], [], ['studios'], ['ultimate'], ['fan'], ['sweepstakes'], ['chance'], ['win'], ['trip'], ['tour'], [], ['studios'], ['set'], ['visit'], [], ['official'], ['rules'], ['thank'], ['fans'], ['support'], ['global'], ['views'], [], ['studios'], [], ['hours'], ['higher'], ['faster'], [], ['available'], ['shirt'], ['days'], [], [], [], ['rise'], ['next'], ['generation'], [], ['heroes'], ['arrive'], ['secret'], ['warriors'], ['premiering'], ['september'], ['happy'], ['birthday'], [], [], ['higher'], ['faster'], [], [], [], ['studios'], [], ['theaters'], ['march'], ['catch'], ['major'], ['carol'], ['danvers'], [], ['infinite'], [], ['costume'], ['available'], ['playstation'], ['experience'], ['worldwide'], ['phenomenon'], [], ['bring'], ['home'], [], ['studios'], [], ['digital'], ['uhd'], ['blu', 'ray'], [], [], [], ['studios'], [], [], [], ['tickets'], [], ['studios'], [], ['theaters'], ['april'], ['larson'], ['industries'], [], [], ['dept'], ['years'], ['making'], [], ['main'], ['event'], [], [], ['tickets'], ['valentine'], ['day'], [], ['tuesday'], ['whip'], ['themed'], ['dipped'], ['strawberries'], [], ['sweetheart'], ['know'], ['destiny'], ['arrives'], [], ['tickets'], [], ['studios'], [], [], [], ['brand'], [], ['debuted'], ['hall'], [], [], ['jude'], ['law'], ['exclusive'], [], ['photos'], ['play'], [], [], ['announced'], [], ['vs'], ['capcom'], ['infinite'], ['video'], ['game'], ['coming'], ['real'], ['heroes'], ['actual'], ['size'], [], [], ['studios'], ['antman'], ['thewasp'], ['red'], ['carpet'], ['coverage'], ['live'], ['hollywood'], ['partnership'], [], ['marvelstrikef'], ['stay'], ['tuned'], ['interviews'], ['games'], ['cast'], [], ['pscp', 'tv', 'antman', 'yngaxznqkjkj'], [], [], [], ['walt'], ['disney'], ['company'], ['salute'], ['life'], ['career'], ['stan'], ['lee'], ['offer'], ['undying'], ['gratitude'], ['unmatchable'], ['accomplishments'], ['halls'], [], ['open'], [], ['comic'], ['stan'], [], ['please'], ['join'], ['remembering'], ['stan'], ['man'], ['lee'], ['meet'], ['newest'], ['member'], ['born'], [], ['going'], ['punch'], ['holes'], ['sky'], ['cc'], [], ['ready'], ['save'], [], ['comes'], ['digital'], ['aug'], ['blu', 'ray'], ['aug'], [], ['uhd'], ['pre', 'order'], ['check'], [], ['poster'], ['tune'], ['game'], ['tonight'], [], ['world'], ['teaser'], [], ['witness'], ['legend'], ['anna'], ['boden'], ['ryan'], ['fleck'], ['sign'], ['direct'], [], ['studios'], [], [], ['bit', 'ly', 'pswlfo'], ['learn'], ['comics'], ['following'], ['big'], ['announcement'], [], ['check'], ['brand'], [], ['poster'], [], ['vol'], [], [], [], ['suit'], [], ['official'], [], [], [], ['theaters'], ['july'], ['production'], [], ['begun'], [], ['studios'], ['receives'], ['instructions'], ['brigadier'], ['general'], ['jeannie'], ['leavitt'], ['th'], ['wing'], ['commander'], ['recent'], ['visit'], ['nellis'], ['air'], ['force'], ['base'], ['nevada'], ['research'], ['character'], ['future'], [], ['female'], [], ['exclusive'], ['look'], [], [], ['newest'], [], [], ['powerful'], [], ['star'], [], [], ['idea'], [], [], ['studios'], [], ['theaters'], [], [], ['showtime'], [], ['brand'], [], ['guardians'], [], ['vol'], ['teaser'], [], ['join'], ['celebration'], ['enter'], [], ['studios'], ['ultimate'], ['fan'], ['sweepstakes'], ['tweet'], ['favorite'], ['memory'], [], ['personal'], ['photo'], [], ['chance'], ['win'], ['trip'], ['rules'], ['live'], ['king'], [], ['studios'], ['tickets'], [], ['available'], ['meet'], [], ['antman'], ['gets'], ['sequel'], [], ['cinematic'], ['universe'], ['phase'], ['updates'], [], ['updates'], [], ['bit', 'ly', 'wpql'], [], ['invincible'], [], ['anything'], ['think'], ['carol'], ['danvers'], ['call'], [], [], [], ['tomorrow'], ['real'], ['heroes'], ['actual'], ['size'], [], ['brand'], [], [], [], ['studios'], ['ant', 'man'], ['wasp'], ['theaters'], ['july']]\n"
     ]
    }
   ],
   "source": [
    "# Form Bigrams\n",
    "# data_words_bigrams = make_bigrams(data_words_nostops)\n",
    "data_words_trigrams=make_trigrams(data_words_nostops)\n",
    "# print(data_words_trigrams)"
   ]
  },
  {
   "cell_type": "code",
   "execution_count": 20,
   "metadata": {},
   "outputs": [],
   "source": [
    "# Initialize spacy 'en' model, keeping only tagger component (for efficiency)\n",
    "# python3 -m spacy download en (cmd에서 실행)\n",
    "nlp = spacy.load('en', disable=['parser', 'ner'])"
   ]
  },
  {
   "cell_type": "code",
   "execution_count": 38,
   "metadata": {},
   "outputs": [],
   "source": [
    "# Do lemmatization keeping only noun, adj, vb, adv\n",
    "data_lemmatized = lemmatization(data_words_trigrams, allowed_postags=['NOUN', 'ADJ', 'VERB', 'ADV'])\n",
    "# print(data_lemmatized)\n",
    "# Remove Stop Words\n",
    "data_lemmatized2 = remove_stopwords(data_lemmatized)\n",
    "# print(data_lemmatized2)"
   ]
  },
  {
   "cell_type": "code",
   "execution_count": 39,
   "metadata": {},
   "outputs": [],
   "source": [
    "# Create Dictionary\n",
    "id2word = corpora.Dictionary(data_lemmatized2)\n",
    "# print(id2word)\n",
    "\n",
    "# Create Corpus\n",
    "texts = data_lemmatized2\n",
    "for i in texts:\n",
    "    try:\n",
    "        i == [] or ['\\n']\n",
    "        texts.remove(i)\n",
    "    except IndexError:\n",
    "        pass\n",
    "\n",
    "list_a = []\n",
    "\n",
    "for i in texts:\n",
    "    try:\n",
    "        list_a.append(i[0])\n",
    "    except IndexError:\n",
    "        pass"
   ]
  },
  {
   "cell_type": "code",
   "execution_count": 40,
   "metadata": {},
   "outputs": [],
   "source": [
    "# Term Document Frequency\n",
    "corpus = [id2word.doc2bow(list_a) for text in texts]\n",
    "# print(corpus)\n",
    "# print(corpus[2]) # 일부가 출력되었음\n",
    " \n",
    "# Human readable format of corpus (term-frequency)\n",
    "# [[(id2word[id], freq) for id, freq in cp] for cp in corpus[:1]]"
   ]
  },
  {
   "cell_type": "code",
   "execution_count": 50,
   "metadata": {},
   "outputs": [],
   "source": [
    "# Build LDA model\n",
    "lda_model = gensim.models.ldamodel.LdaModel(corpus=corpus,\n",
    "id2word=id2word,\n",
    "num_topics=2,\n",
    "random_state=100,\n",
    "update_every=1,\n",
    "chunksize=100,\n",
    "passes=10,\n",
    "alpha='auto',\n",
    "per_word_topics=True)"
   ]
  },
  {
   "cell_type": "code",
   "execution_count": 51,
   "metadata": {},
   "outputs": [
    {
     "name": "stdout",
     "output_type": "stream",
     "text": [
      "[(0,\n",
      "  '0.020*\"brand\" + 0.019*\"fan\" + 0.018*\"game\" + 0.017*\"hero\" + 0.016*\"teaser\" '\n",
      "  '+ 0.015*\"photo\" + 0.015*\"arrive\" + 0.015*\"tune\" + 0.014*\"cinematic\" + '\n",
      "  '0.014*\"live\"'),\n",
      " (1,\n",
      "  '0.022*\"hero\" + 0.021*\"game\" + 0.020*\"fan\" + 0.019*\"brand\" + 0.016*\"trip\" + '\n",
      "  '0.015*\"king\" + 0.015*\"exclusive\" + 0.014*\"chance\" + 0.013*\"update\" + '\n",
      "  '0.013*\"available\"')]\n"
     ]
    }
   ],
   "source": [
    "# Print the Keyword in the 10 topics\n",
    "# carol과 brie는 주인공 이름입니다.\n",
    "pprint(lda_model.print_topics())\n",
    "doc_lda = lda_model[corpus]"
   ]
  },
  {
   "cell_type": "code",
   "execution_count": 18,
   "metadata": {},
   "outputs": [
    {
     "name": "stdout",
     "output_type": "stream",
     "text": [
      "\n",
      "Perplexity:  -7.0470954998314355\n"
     ]
    }
   ],
   "source": [
    "# Compute Perplexity(모델 난이도)\n",
    "print('\\nPerplexity: ', lda_model.log_perplexity(corpus)) # a measure of how good the model is. lower the better."
   ]
  },
  {
   "cell_type": "code",
   "execution_count": 19,
   "metadata": {},
   "outputs": [
    {
     "name": "stdout",
     "output_type": "stream",
     "text": [
      "\n",
      "Coherence Score:  0.8518736892580371\n"
     ]
    }
   ],
   "source": [
    "# Compute Coherence Score(일관성 점수)\n",
    "coherence_model_lda = CoherenceModel(model=lda_model, texts=data_lemmatized, dictionary=id2word, coherence='c_v')\n",
    "\n",
    "coherence_lda = coherence_model_lda.get_coherence()\n",
    "print('\\nCoherence Score: ', coherence_lda)"
   ]
  },
  {
   "cell_type": "code",
   "execution_count": 52,
   "metadata": {
    "scrolled": false
   },
   "outputs": [
    {
     "data": {
      "text/html": [
       "\n",
       "<link rel=\"stylesheet\" type=\"text/css\" href=\"https://cdn.rawgit.com/bmabey/pyLDAvis/files/ldavis.v1.0.0.css\">\n",
       "\n",
       "\n",
       "<div id=\"ldavis_el363621937789581523228940645\"></div>\n",
       "<script type=\"text/javascript\">\n",
       "\n",
       "var ldavis_el363621937789581523228940645_data = {\"mdsDat\": {\"Freq\": [54.58983612060547, 45.41016387939453], \"cluster\": [1, 1], \"topics\": [1, 2], \"x\": [0.00394649151712656, -0.00394649151712656], \"y\": [0.0, 0.0]}, \"tinfo\": {\"Category\": [\"Default\", \"Default\", \"Default\", \"Default\", \"Default\", \"Default\", \"Default\", \"Default\", \"Default\", \"Default\", \"Default\", \"Default\", \"Default\", \"Default\", \"Default\", \"Default\", \"Default\", \"Default\", \"Default\", \"Default\", \"Default\", \"Default\", \"Default\", \"Default\", \"Default\", \"Default\", \"Default\", \"Default\", \"Default\", \"Default\", \"Topic1\", \"Topic1\", \"Topic1\", \"Topic1\", \"Topic1\", \"Topic1\", \"Topic1\", \"Topic1\", \"Topic1\", \"Topic1\", \"Topic1\", \"Topic1\", \"Topic1\", \"Topic1\", \"Topic1\", \"Topic1\", \"Topic1\", \"Topic1\", \"Topic1\", \"Topic1\", \"Topic1\", \"Topic1\", \"Topic1\", \"Topic1\", \"Topic1\", \"Topic1\", \"Topic1\", \"Topic1\", \"Topic1\", \"Topic1\", \"Topic1\", \"Topic1\", \"Topic1\", \"Topic1\", \"Topic1\", \"Topic1\", \"Topic1\", \"Topic1\", \"Topic1\", \"Topic1\", \"Topic1\", \"Topic1\", \"Topic1\", \"Topic1\", \"Topic1\", \"Topic2\", \"Topic2\", \"Topic2\", \"Topic2\", \"Topic2\", \"Topic2\", \"Topic2\", \"Topic2\", \"Topic2\", \"Topic2\", \"Topic2\", \"Topic2\", \"Topic2\", \"Topic2\", \"Topic2\", \"Topic2\", \"Topic2\", \"Topic2\", \"Topic2\", \"Topic2\", \"Topic2\", \"Topic2\", \"Topic2\", \"Topic2\", \"Topic2\", \"Topic2\", \"Topic2\", \"Topic2\", \"Topic2\", \"Topic2\", \"Topic2\", \"Topic2\", \"Topic2\", \"Topic2\", \"Topic2\", \"Topic2\", \"Topic2\", \"Topic2\", \"Topic2\", \"Topic2\", \"Topic2\", \"Topic2\", \"Topic2\", \"Topic2\", \"Topic2\", \"Topic2\"], \"Freq\": [491.0, 246.0, 737.0, 246.0, 246.0, 491.0, 246.0, 246.0, 246.0, 737.0, 246.0, 491.0, 246.0, 246.0, 246.0, 246.0, 246.0, 246.0, 246.0, 246.0, 246.0, 246.0, 246.0, 491.0, 246.0, 491.0, 246.0, 737.0, 246.0, 246.0, 173.17332458496094, 172.50746154785156, 168.32171630859375, 166.19253540039062, 327.0823059082031, 161.83543395996094, 160.9039306640625, 317.54913330078125, 317.3893127441406, 158.96324157714844, 158.01296997070312, 156.9463348388672, 156.78575134277344, 155.91419982910156, 310.7686462402344, 155.2355194091797, 153.34967041015625, 152.92686462402344, 151.13226318359375, 149.6457977294922, 149.32101440429688, 148.95785522460938, 148.0373077392578, 147.86019897460938, 147.48899841308594, 146.8770751953125, 288.4595947265625, 144.1875457763672, 142.72000122070312, 142.32875061035156, 283.46319580078125, 281.0160217285156, 415.487548828125, 280.5430908203125, 274.9187927246094, 392.7198791503906, 267.9205322265625, 372.6285400390625, 265.1634216308594, 262.8434143066406, 356.5396728515625, 251.85240173339844, 242.63262939453125, 229.0401611328125, 214.72811889648438, 152.53775024414062, 147.16937255859375, 146.29786682128906, 142.80262756347656, 141.39617919921875, 277.2305603027344, 137.7851104736328, 137.612060546875, 134.0772247314453, 134.007080078125, 133.1205596923828, 132.1235809326172, 262.91876220703125, 131.21754455566406, 130.86669921875, 130.28787231445312, 129.3396453857422, 128.51638793945312, 128.1121826171875, 380.9019470214844, 126.21560668945312, 125.33162689208984, 125.17117309570312, 125.14466094970703, 125.09281158447266, 125.07595825195312, 249.3267364501953, 124.87663269042969, 124.48715209960938, 123.46468353271484, 364.8135986328125, 240.10714721679688, 344.7228088378906, 229.11643981933594, 321.955810546875, 226.7965087890625, 224.0393829345703, 217.04135131835938, 211.4171905517578, 210.9442901611328, 208.4971923828125, 203.50079345703125, 181.1923370361328, 174.57196044921875, 174.41212463378906, 164.87918090820312], \"Term\": [\"trip\", \"celebration\", \"hero\", \"dip\", \"favorite\", \"king\", \"perlman\", \"event\", \"thewasp\", \"game\", \"air\", \"exclusive\", \"enter\", \"class\", \"\\u01dd\\u028c\\u0250\\u0265\", \"bit\", \"tomorrow\", \"style\", \"warrior\", \"call\", \"actual\", \"jude\", \"sweepstake\", \"chance\", \"legend\", \"teaser\", \"learn\", \"fan\", \"receive\", \"bring\", \"call\", \"jude\", \"marvelstrikef\", \"comic\", \"teaser\", \"industry\", \"bear\", \"photo\", \"arrive\", \"set\", \"universe\", \"action\", \"series\", \"phenomenon\", \"tune\", \"official\", \"announcement\", \"whip\", \"faster\", \"season\", \"announce\", \"valentine\", \"high\", \"unmatchable\", \"pre\", \"debut\", \"cinematic\", \"stan\", \"idea\", \"\\u01ddp\\u1d09sdn\", \"live\", \"scene\", \"brand\", \"lee\", \"carol\", \"fan\", \"mighty\", \"game\", \"available\", \"update\", \"hero\", \"chance\", \"exclusive\", \"king\", \"trip\", \"celebration\", \"dip\", \"favorite\", \"perlman\", \"event\", \"trip\", \"thewasp\", \"air\", \"enter\", \"class\", \"\\u01dd\\u028c\\u0250\\u0265\", \"bit\", \"king\", \"tomorrow\", \"style\", \"warrior\", \"actual\", \"sweepstake\", \"legend\", \"hero\", \"learn\", \"receive\", \"bring\", \"video\", \"base\", \"follow\", \"exclusive\", \"carpet\", \"kick\", \"year\", \"game\", \"chance\", \"fan\", \"update\", \"brand\", \"available\", \"mighty\", \"carol\", \"lee\", \"scene\", \"live\", \"cinematic\", \"tune\", \"arrive\", \"photo\", \"teaser\"], \"Total\": [491.0, 246.0, 737.0, 246.0, 246.0, 491.0, 246.0, 246.0, 246.0, 737.0, 246.0, 491.0, 246.0, 246.0, 246.0, 246.0, 246.0, 246.0, 246.0, 246.0, 246.0, 246.0, 246.0, 491.0, 246.0, 491.0, 246.0, 737.0, 246.0, 246.0, 246.47793579101562, 246.47781372070312, 246.47775268554688, 246.47772216796875, 491.96148681640625, 246.4776611328125, 246.47760009765625, 491.96124267578125, 491.9612731933594, 246.4775390625, 246.47750854492188, 246.47752380371094, 246.47752380371094, 246.47750854492188, 491.96099853515625, 246.47744750976562, 246.4774169921875, 246.4774169921875, 246.47735595703125, 246.477294921875, 246.47726440429688, 246.47726440429688, 246.47727966308594, 246.47723388671875, 246.47723388671875, 246.47720336914062, 491.96038818359375, 246.47714233398438, 246.47711181640625, 246.47706604003906, 491.96038818359375, 491.9603271484375, 737.443359375, 491.96026611328125, 491.96014404296875, 737.4426879882812, 491.95989990234375, 737.442138671875, 491.9599304199219, 491.9598388671875, 737.441650390625, 491.95953369140625, 491.9593505859375, 491.95892333984375, 491.95867919921875, 246.47579956054688, 246.4759521484375, 246.47604370117188, 246.47607421875, 246.47613525390625, 491.95867919921875, 246.47622680664062, 246.4762420654297, 246.47628784179688, 246.47628784179688, 246.47634887695312, 246.47640991210938, 491.95892333984375, 246.47647094726562, 246.47645568847656, 246.4764404296875, 246.47647094726562, 246.47642517089844, 246.47647094726562, 737.441650390625, 246.47659301757812, 246.47657775878906, 246.47659301757812, 246.47662353515625, 246.47659301757812, 246.4766082763672, 491.9593505859375, 246.47659301757812, 246.47659301757812, 246.4765625, 737.442138671875, 491.95953369140625, 737.4426879882812, 491.9598388671875, 737.443359375, 491.9599304199219, 491.95989990234375, 491.96014404296875, 491.96026611328125, 491.9603271484375, 491.96038818359375, 491.96038818359375, 491.96099853515625, 491.9612731933594, 491.96124267578125, 491.96148681640625], \"loglift\": [30.0, 29.0, 28.0, 27.0, 26.0, 25.0, 24.0, 23.0, 22.0, 21.0, 20.0, 19.0, 18.0, 17.0, 16.0, 15.0, 14.0, 13.0, 12.0, 11.0, 10.0, 9.0, 8.0, 7.0, 6.0, 5.0, 4.0, 3.0, 2.0, 1.0, 0.2522999942302704, 0.2485000044107437, 0.22390000522136688, 0.21119999885559082, 0.19709999859333038, 0.18459999561309814, 0.17890000343322754, 0.16760000586509705, 0.1670999974012375, 0.16670000553131104, 0.1606999933719635, 0.15399999916553497, 0.15289999544620514, 0.14740000665187836, 0.1459999978542328, 0.14300000667572021, 0.13079999387264252, 0.12800000607967377, 0.11620000004768372, 0.1062999963760376, 0.10419999808073044, 0.10170000046491623, 0.09549999982118607, 0.09430000185966492, 0.09179999679327011, 0.08760000020265579, 0.07150000333786011, 0.06920000165700912, 0.05889999866485596, 0.05620000138878822, 0.05400000140070915, 0.04529999941587448, 0.031599998474121094, 0.043699998408555984, 0.023399999365210533, -0.024800000712275505, -0.002400000113993883, -0.07729999721050262, -0.01269999984651804, -0.0215000007301569, -0.12139999866485596, -0.06419999897480011, -0.1014999970793724, -0.15919999778270721, -0.22370000183582306, 0.30959999561309814, 0.27379998564720154, 0.2678000032901764, 0.243599995970726, 0.2337000072002411, 0.2159000039100647, 0.2079000025987625, 0.20659999549388885, 0.18060000240802765, 0.1800999939441681, 0.17339999973773956, 0.16590000689029694, 0.16290000081062317, 0.1589999943971634, 0.15629999339580536, 0.15189999341964722, 0.1446000039577484, 0.13819999992847443, 0.13510000705718994, 0.12880000472068787, 0.12020000070333481, 0.11309999972581863, 0.11180000007152557, 0.11159999668598175, 0.1111999973654747, 0.11110000312328339, 0.10980000346899033, 0.10949999839067459, 0.10639999806880951, 0.09809999912977219, 0.08560000360012054, 0.07209999859333038, 0.028999999165534973, 0.025299999862909317, -0.03929999843239784, 0.01510000042617321, 0.002899999963119626, -0.02889999933540821, -0.05510000139474869, -0.05739999935030937, -0.0689999982714653, -0.093299999833107, -0.2093999981880188, -0.24660000205039978, -0.2475000023841858, -0.30379998683929443], \"logprob\": [30.0, 29.0, 28.0, 27.0, 26.0, 25.0, 24.0, 23.0, 22.0, 21.0, 20.0, 19.0, 18.0, 17.0, 16.0, 15.0, 14.0, 13.0, 12.0, 11.0, 10.0, 9.0, 8.0, 7.0, 6.0, 5.0, 4.0, 3.0, 2.0, 1.0, -4.77370023727417, -4.777500152587891, -4.80210018157959, -4.814799785614014, -4.137700080871582, -4.841400146484375, -4.847099781036377, -4.167300224304199, -4.167799949645996, -4.859300136566162, -4.865300178527832, -4.872000217437744, -4.8730998039245605, -4.878600120544434, -4.188899993896484, -4.882999897003174, -4.895199775695801, -4.8979997634887695, -4.909800052642822, -4.9197001457214355, -4.921800136566162, -4.924300193786621, -4.930500030517578, -4.931700229644775, -4.934199810028076, -4.938399791717529, -4.263400077819824, -4.9567999839782715, -4.967100143432617, -4.969799995422363, -4.280900001525879, -4.2895002365112305, -3.8984999656677246, -4.291200160980225, -4.311500072479248, -3.9547998905181885, -4.337299823760986, -4.007400035858154, -4.347599983215332, -4.356400012969971, -4.051499843597412, -4.399099826812744, -4.436399936676025, -4.49399995803833, -4.558599948883057, -4.716400146484375, -4.752299785614014, -4.758200168609619, -4.782400131225586, -4.792300224304199, -4.11899995803833, -4.8180999755859375, -4.819399833679199, -4.845399856567383, -4.845900058746338, -4.85260009765625, -4.860099792480469, -4.171999931335449, -4.867000102996826, -4.869699954986572, -4.874100208282471, -4.881400108337402, -4.887800216674805, -4.890900135040283, -3.801300048828125, -4.905799865722656, -4.912899971008301, -4.9141998291015625, -4.914400100708008, -4.91480016708374, -4.914899826049805, -4.225100040435791, -4.916500091552734, -4.919600009918213, -4.9278998374938965, -3.844399929046631, -4.262700080871582, -3.901099920272827, -4.309599876403809, -3.969399929046631, -4.319799900054932, -4.331999778747559, -4.363699913024902, -4.389999866485596, -4.392199993133545, -4.403900146484375, -4.428199768066406, -4.544300079345703, -4.581500053405762, -4.582399845123291, -4.638599872589111]}, \"token.table\": {\"Topic\": [1, 2, 1, 2, 1, 2, 1, 2, 1, 2, 1, 2, 1, 2, 1, 2, 1, 2, 1, 2, 1, 2, 1, 2, 1, 2, 1, 2, 1, 2, 1, 2, 1, 2, 1, 2, 1, 2, 1, 2, 1, 2, 1, 2, 1, 2, 1, 2, 1, 2, 1, 2, 1, 2, 1, 2, 1, 2, 1, 2, 1, 2, 1, 2, 1, 2, 1, 2, 1, 2, 1, 2, 1, 2, 1, 2, 1, 2, 1, 2, 1, 2, 1, 2, 1, 2, 1, 2, 1, 2, 1, 2, 1, 2, 1, 2, 1, 2, 1, 2, 1, 2, 1, 2, 1, 2, 1, 2, 1, 2, 1, 2, 1, 2, 1, 2, 1, 2, 1, 2, 1, 2, 1, 2, 1, 2, 1, 2, 1, 2, 1, 2, 1, 2, 1, 2, 1, 2, 1, 2, 1, 2], \"Freq\": [0.6369749307632446, 0.36514484882354736, 0.47469034790992737, 0.5233765244483948, 0.44223329424858093, 0.5598917007446289, 0.6045182347297668, 0.3935454189777374, 0.6207465529441833, 0.37731650471687317, 0.6443596482276917, 0.35571905970573425, 0.538661777973175, 0.4614197015762329, 0.4909188151359558, 0.5071475505828857, 0.6532033681869507, 0.34891608357429504, 0.4625189006328583, 0.535548210144043, 0.5627551078796387, 0.43664368987083435, 0.4909188151359558, 0.5071475505828857, 0.701888382434845, 0.296172559261322, 0.5589883923530579, 0.4410926401615143, 0.4949760138988495, 0.5071475505828857, 0.381376177072525, 0.6207506060600281, 0.5122372508049011, 0.4878450036048889, 0.5854129791259766, 0.414667546749115, 0.4544047713279724, 0.5436628460884094, 0.6734888553619385, 0.32457295060157776, 0.5964040160179138, 0.40571704506874084, 0.4016619026660919, 0.5964070558547974, 0.4544047713279724, 0.5436628460884094, 0.4260047376155853, 0.5720635056495667, 0.4939432442188263, 0.5061393976211548, 0.5329227447509766, 0.4678329527378082, 0.6126323342323303, 0.3854309320449829, 0.40571895241737366, 0.592349648475647, 0.4909187853336334, 0.507147490978241, 0.5058023929595947, 0.49495407938957214, 0.4841060936450958, 0.5166510343551636, 0.6004610061645508, 0.39760255813598633, 0.5801755785942078, 0.42194586992263794, 0.6572603583335876, 0.3448588252067566, 0.7018887400627136, 0.30022984743118286, 0.4949760138988495, 0.5030903816223145, 0.4654860198497772, 0.5345974564552307, 0.4868616461753845, 0.511204719543457, 0.5711843371391296, 0.428896427154541, 0.47874751687049866, 0.5193193554878235, 0.5752495527267456, 0.4227982759475708, 0.6816030740737915, 0.3164585828781128, 0.5447598695755005, 0.45532166957855225, 0.6288607716560364, 0.3692021369934082, 0.4219476580619812, 0.5801780223846436, 0.6329177618026733, 0.36920204758644104, 0.6463924050331116, 0.3536863923072815, 0.596403956413269, 0.4016598165035248, 0.4909188449382782, 0.5071475505828857, 0.5711842775344849, 0.42889636754989624, 0.6085753440856934, 0.39354538917541504, 0.6369749307632446, 0.36514484882354736, 0.6450892090797424, 0.3570305109024048, 0.5842326879501343, 0.4138314723968506, 0.4706331789493561, 0.5314909219741821, 0.4787476062774658, 0.5233766436576843, 0.6646862030029297, 0.3353921175003052, 0.4422333240509033, 0.5598917007446289, 0.4665759801864624, 0.5314909219741821, 0.43702858686447144, 0.5630553960800171, 0.632163941860199, 0.3679153323173523, 0.6410320997238159, 0.3570305407047272, 0.6004611253738403, 0.4016598165035248, 0.5345965027809143, 0.465485155582428, 0.6045182347297668, 0.3976025879383087, 0.49091875553131104, 0.507147490978241, 0.47063320875167847, 0.5274337530136108, 0.6207465529441833, 0.38137367367744446, 0.49903324246406555, 0.49903324246406555, 0.576118528842926, 0.4219459593296051, 0.45846185088157654, 0.5396054983139038], \"Term\": [\"action\", \"action\", \"actual\", \"actual\", \"air\", \"air\", \"announce\", \"announce\", \"announcement\", \"announcement\", \"arrive\", \"arrive\", \"available\", \"available\", \"base\", \"base\", \"bear\", \"bear\", \"bit\", \"bit\", \"brand\", \"brand\", \"bring\", \"bring\", \"call\", \"call\", \"carol\", \"carol\", \"carpet\", \"carpet\", \"celebration\", \"celebration\", \"chance\", \"chance\", \"cinematic\", \"cinematic\", \"class\", \"class\", \"comic\", \"comic\", \"debut\", \"debut\", \"dip\", \"dip\", \"enter\", \"enter\", \"event\", \"event\", \"exclusive\", \"exclusive\", \"fan\", \"fan\", \"faster\", \"faster\", \"favorite\", \"favorite\", \"follow\", \"follow\", \"game\", \"game\", \"hero\", \"hero\", \"high\", \"high\", \"idea\", \"idea\", \"industry\", \"industry\", \"jude\", \"jude\", \"kick\", \"kick\", \"king\", \"king\", \"learn\", \"learn\", \"lee\", \"lee\", \"legend\", \"legend\", \"live\", \"live\", \"marvelstrikef\", \"marvelstrikef\", \"mighty\", \"mighty\", \"official\", \"official\", \"perlman\", \"perlman\", \"phenomenon\", \"phenomenon\", \"photo\", \"photo\", \"pre\", \"pre\", \"receive\", \"receive\", \"scene\", \"scene\", \"season\", \"season\", \"series\", \"series\", \"set\", \"set\", \"stan\", \"stan\", \"style\", \"style\", \"sweepstake\", \"sweepstake\", \"teaser\", \"teaser\", \"thewasp\", \"thewasp\", \"tomorrow\", \"tomorrow\", \"trip\", \"trip\", \"tune\", \"tune\", \"universe\", \"universe\", \"unmatchable\", \"unmatchable\", \"update\", \"update\", \"valentine\", \"valentine\", \"video\", \"video\", \"warrior\", \"warrior\", \"whip\", \"whip\", \"year\", \"year\", \"\\u01ddp\\u1d09sdn\", \"\\u01ddp\\u1d09sdn\", \"\\u01dd\\u028c\\u0250\\u0265\", \"\\u01dd\\u028c\\u0250\\u0265\"]}, \"R\": 30, \"lambda.step\": 0.01, \"plot.opts\": {\"xlab\": \"PC1\", \"ylab\": \"PC2\"}, \"topic.order\": [1, 2]};\n",
       "\n",
       "function LDAvis_load_lib(url, callback){\n",
       "  var s = document.createElement('script');\n",
       "  s.src = url;\n",
       "  s.async = true;\n",
       "  s.onreadystatechange = s.onload = callback;\n",
       "  s.onerror = function(){console.warn(\"failed to load library \" + url);};\n",
       "  document.getElementsByTagName(\"head\")[0].appendChild(s);\n",
       "}\n",
       "\n",
       "if(typeof(LDAvis) !== \"undefined\"){\n",
       "   // already loaded: just create the visualization\n",
       "   !function(LDAvis){\n",
       "       new LDAvis(\"#\" + \"ldavis_el363621937789581523228940645\", ldavis_el363621937789581523228940645_data);\n",
       "   }(LDAvis);\n",
       "}else if(typeof define === \"function\" && define.amd){\n",
       "   // require.js is available: use it to load d3/LDAvis\n",
       "   require.config({paths: {d3: \"https://cdnjs.cloudflare.com/ajax/libs/d3/3.5.5/d3.min\"}});\n",
       "   require([\"d3\"], function(d3){\n",
       "      window.d3 = d3;\n",
       "      LDAvis_load_lib(\"https://cdn.rawgit.com/bmabey/pyLDAvis/files/ldavis.v1.0.0.js\", function(){\n",
       "        new LDAvis(\"#\" + \"ldavis_el363621937789581523228940645\", ldavis_el363621937789581523228940645_data);\n",
       "      });\n",
       "    });\n",
       "}else{\n",
       "    // require.js not available: dynamically load d3 & LDAvis\n",
       "    LDAvis_load_lib(\"https://cdnjs.cloudflare.com/ajax/libs/d3/3.5.5/d3.min.js\", function(){\n",
       "         LDAvis_load_lib(\"https://cdn.rawgit.com/bmabey/pyLDAvis/files/ldavis.v1.0.0.js\", function(){\n",
       "                 new LDAvis(\"#\" + \"ldavis_el363621937789581523228940645\", ldavis_el363621937789581523228940645_data);\n",
       "            })\n",
       "         });\n",
       "}\n",
       "</script>"
      ],
      "text/plain": [
       "PreparedData(topic_coordinates=            Freq  cluster  topics         x    y\n",
       "topic                                           \n",
       "0      54.589836        1       1  0.003946  0.0\n",
       "1      45.410164        1       2 -0.003946  0.0, topic_info=     Category        Freq         Term       Total  loglift  logprob\n",
       "term                                                                \n",
       "66    Default  491.000000         trip  491.000000  30.0000  30.0000\n",
       "48    Default  246.000000  celebration  246.000000  29.0000  29.0000\n",
       "21    Default  737.000000         hero  737.000000  28.0000  28.0000\n",
       "117   Default  246.000000          dip  246.000000  27.0000  27.0000\n",
       "218   Default  246.000000     favorite  246.000000  26.0000  26.0000\n",
       "23    Default  491.000000         king  491.000000  25.0000  25.0000\n",
       "26    Default  246.000000      perlman  246.000000  24.0000  24.0000\n",
       "112   Default  246.000000        event  246.000000  23.0000  23.0000\n",
       "134   Default  246.000000      thewasp  246.000000  22.0000  22.0000\n",
       "11    Default  737.000000         game  737.000000  21.0000  21.0000\n",
       "204   Default  246.000000          air  246.000000  20.0000  20.0000\n",
       "0     Default  491.000000    exclusive  491.000000  19.0000  19.0000\n",
       "61    Default  246.000000        enter  246.000000  18.0000  18.0000\n",
       "49    Default  246.000000        class  246.000000  17.0000  17.0000\n",
       "43    Default  246.000000         ǝʌɐɥ  246.000000  16.0000  16.0000\n",
       "187   Default  246.000000          bit  246.000000  15.0000  15.0000\n",
       "229   Default  246.000000     tomorrow  246.000000  14.0000  14.0000\n",
       "38    Default  246.000000        style  246.000000  13.0000  13.0000\n",
       "86    Default  246.000000      warrior  246.000000  12.0000  12.0000\n",
       "228   Default  246.000000         call  246.000000  11.0000  11.0000\n",
       "131   Default  246.000000       actual  246.000000  10.0000  10.0000\n",
       "125   Default  246.000000         jude  246.000000   9.0000   9.0000\n",
       "63    Default  246.000000   sweepstake  246.000000   8.0000   8.0000\n",
       "64    Default  491.000000       chance  491.000000   7.0000   7.0000\n",
       "22    Default  246.000000       legend  246.000000   6.0000   6.0000\n",
       "15    Default  491.000000       teaser  491.000000   5.0000   5.0000\n",
       "189   Default  246.000000        learn  246.000000   4.0000   4.0000\n",
       "59    Default  737.000000          fan  737.000000   3.0000   3.0000\n",
       "195   Default  246.000000      receive  246.000000   2.0000   2.0000\n",
       "100   Default  246.000000        bring  246.000000   1.0000   1.0000\n",
       "...       ...         ...          ...         ...      ...      ...\n",
       "131    Topic2  129.339645       actual  246.476471   0.1446  -4.8814\n",
       "63     Topic2  128.516388   sweepstake  246.476425   0.1382  -4.8878\n",
       "22     Topic2  128.112183       legend  246.476471   0.1351  -4.8909\n",
       "21     Topic2  380.901947         hero  737.441650   0.1288  -3.8013\n",
       "189    Topic2  126.215607        learn  246.476593   0.1202  -4.9058\n",
       "195    Topic2  125.331627      receive  246.476578   0.1131  -4.9129\n",
       "100    Topic2  125.171173        bring  246.476593   0.1118  -4.9142\n",
       "4      Topic2  125.144661        video  246.476624   0.1116  -4.9144\n",
       "206    Topic2  125.092812         base  246.476593   0.1112  -4.9148\n",
       "190    Topic2  125.075958       follow  246.476608   0.1111  -4.9149\n",
       "0      Topic2  249.326736    exclusive  491.959351   0.1098  -4.2251\n",
       "136    Topic2  124.876633       carpet  246.476593   0.1095  -4.9165\n",
       "46     Topic2  124.487152         kick  246.476593   0.1064  -4.9196\n",
       "110    Topic2  123.464684         year  246.476562   0.0981  -4.9279\n",
       "11     Topic2  364.813599         game  737.442139   0.0856  -3.8444\n",
       "64     Topic2  240.107147       chance  491.959534   0.0721  -4.2627\n",
       "59     Topic2  344.722809          fan  737.442688   0.0290  -3.9011\n",
       "223    Topic2  229.116440       update  491.959839   0.0253  -4.3096\n",
       "122    Topic2  321.955811        brand  737.443359  -0.0393  -3.9694\n",
       "78     Topic2  226.796509    available  491.959930   0.0151  -4.3198\n",
       "1      Topic2  224.039383       mighty  491.959900   0.0029  -4.3320\n",
       "92     Topic2  217.041351        carol  491.960144  -0.0289  -4.3637\n",
       "155    Topic2  211.417191          lee  491.960266  -0.0551  -4.3900\n",
       "3      Topic2  210.944290        scene  491.960327  -0.0574  -4.3922\n",
       "55     Topic2  208.497192         live  491.960388  -0.0690  -4.4039\n",
       "19     Topic2  203.500793    cinematic  491.960388  -0.0933  -4.4282\n",
       "142    Topic2  181.192337         tune  491.960999  -0.2094  -4.5443\n",
       "84     Topic2  174.571960       arrive  491.961273  -0.2466  -4.5815\n",
       "50     Topic2  174.412125        photo  491.961243  -0.2475  -4.5824\n",
       "15     Topic2  164.879181       teaser  491.961487  -0.3038  -4.6386\n",
       "\n",
       "[121 rows x 6 columns], token_table=      Topic      Freq          Term\n",
       "term                               \n",
       "13        1  0.636975        action\n",
       "13        2  0.365145        action\n",
       "131       1  0.474690        actual\n",
       "131       2  0.523377        actual\n",
       "204       1  0.442233           air\n",
       "204       2  0.559892           air\n",
       "128       1  0.604518      announce\n",
       "128       2  0.393545      announce\n",
       "191       1  0.620747  announcement\n",
       "191       2  0.377317  announcement\n",
       "84        1  0.644360        arrive\n",
       "84        2  0.355719        arrive\n",
       "78        1  0.538662     available\n",
       "78        2  0.461420     available\n",
       "206       1  0.490919          base\n",
       "206       2  0.507148          base\n",
       "168       1  0.653203          bear\n",
       "168       2  0.348916          bear\n",
       "187       1  0.462519           bit\n",
       "187       2  0.535548           bit\n",
       "122       1  0.562755         brand\n",
       "122       2  0.436644         brand\n",
       "100       1  0.490919         bring\n",
       "100       2  0.507148         bring\n",
       "228       1  0.701888          call\n",
       "228       2  0.296173          call\n",
       "92        1  0.558988         carol\n",
       "92        2  0.441093         carol\n",
       "136       1  0.494976        carpet\n",
       "136       2  0.507148        carpet\n",
       "...     ...       ...           ...\n",
       "15        1  0.664686        teaser\n",
       "15        2  0.335392        teaser\n",
       "134       1  0.442233       thewasp\n",
       "134       2  0.559892       thewasp\n",
       "229       1  0.466576      tomorrow\n",
       "229       2  0.531491      tomorrow\n",
       "66        1  0.437029          trip\n",
       "66        2  0.563055          trip\n",
       "142       1  0.632164          tune\n",
       "142       2  0.367915          tune\n",
       "20        1  0.641032      universe\n",
       "20        2  0.357031      universe\n",
       "159       1  0.600461   unmatchable\n",
       "159       2  0.401660   unmatchable\n",
       "223       1  0.534597        update\n",
       "223       2  0.465485        update\n",
       "113       1  0.604518     valentine\n",
       "113       2  0.397603     valentine\n",
       "4         1  0.490919         video\n",
       "4         2  0.507147         video\n",
       "86        1  0.470633       warrior\n",
       "86        2  0.527434       warrior\n",
       "115       1  0.620747          whip\n",
       "115       2  0.381374          whip\n",
       "110       1  0.499033          year\n",
       "110       2  0.499033          year\n",
       "40        1  0.576119        ǝpᴉsdn\n",
       "40        2  0.421946        ǝpᴉsdn\n",
       "43        1  0.458462          ǝʌɐɥ\n",
       "43        2  0.539605          ǝʌɐɥ\n",
       "\n",
       "[142 rows x 3 columns], R=30, lambda_step=0.01, plot_opts={'xlab': 'PC1', 'ylab': 'PC2'}, topic_order=[1, 2])"
      ]
     },
     "execution_count": 52,
     "metadata": {},
     "output_type": "execute_result"
    }
   ],
   "source": [
    "# Visualize the topics(대화형차트) - 토픽과 키워드 검사\n",
    "pyLDAvis.enable_notebook()\n",
    "vis = pyLDAvis.gensim.prepare(lda_model, corpus, id2word)\n",
    "vis"
   ]
  },
  {
   "cell_type": "code",
   "execution_count": 21,
   "metadata": {},
   "outputs": [
    {
     "name": "stdout",
     "output_type": "stream",
     "text": [
      "[(6,\n",
      "  [('trailer', 0.019938346),\n",
      "   ('woman', 0.010300504),\n",
      "   ('carol', 0.009199812),\n",
      "   ('brie', 0.008698754),\n",
      "   ('smile', 0.008009472),\n",
      "   ('man', 0.007930054),\n",
      "   ('mcu', 0.007857103),\n",
      "   ('people', 0.006883877),\n",
      "   ('know', 0.0057797115),\n",
      "   ('look', 0.005628144)]),\n",
      " (14,\n",
      "  [('trailer', 0.014390909),\n",
      "   ('woman', 0.012413803),\n",
      "   ('smile', 0.009007018),\n",
      "   ('larson', 0.0085503785),\n",
      "   ('man', 0.008435695),\n",
      "   ('look', 0.008291909),\n",
      "   ('mcu', 0.008228432),\n",
      "   ('brie', 0.007191799),\n",
      "   ('spider', 0.006527868),\n",
      "   ('carol', 0.0063669244)]),\n",
      " (7,\n",
      "  [('trailer', 0.025733186),\n",
      "   ('woman', 0.009063315),\n",
      "   ('man', 0.007868489),\n",
      "   ('look', 0.0076595554),\n",
      "   ('know', 0.0076285754),\n",
      "   ('carol', 0.0071505974),\n",
      "   ('brie', 0.007028966),\n",
      "   ('larson', 0.006657208),\n",
      "   ('mcu', 0.0066474313),\n",
      "   ('hero', 0.006467627)]),\n",
      " (4,\n",
      "  [('trailer', 0.017571386),\n",
      "   ('woman', 0.009617943),\n",
      "   ('smile', 0.009273735),\n",
      "   ('brie', 0.008839297),\n",
      "   ('carol', 0.007821099),\n",
      "   ('mcu', 0.0074589346),\n",
      "   ('man', 0.007037517),\n",
      "   ('look', 0.0067502223),\n",
      "   ('love', 0.006058014),\n",
      "   ('know', 0.006031982)]),\n",
      " (3,\n",
      "  [('trailer', 0.016468924),\n",
      "   ('woman', 0.010366828),\n",
      "   ('man', 0.008620455),\n",
      "   ('brie', 0.008298993),\n",
      "   ('smile', 0.0073248288),\n",
      "   ('mcu', 0.0071906466),\n",
      "   ('captainmarvel', 0.0066027152),\n",
      "   ('larson', 0.0061205225),\n",
      "   ('carol', 0.006068052),\n",
      "   ('know', 0.0059473184)]),\n",
      " (15,\n",
      "  [('trailer', 0.020819023),\n",
      "   ('woman', 0.012148717),\n",
      "   ('mcu', 0.009467885),\n",
      "   ('larson', 0.0083325915),\n",
      "   ('carol', 0.0078003467),\n",
      "   ('man', 0.0071237553),\n",
      "   ('smile', 0.007054748),\n",
      "   ('hero', 0.0063818),\n",
      "   ('look', 0.0063283346),\n",
      "   ('spider', 0.006127013)]),\n",
      " (12,\n",
      "  [('trailer', 0.020907652),\n",
      "   ('woman', 0.012247792),\n",
      "   ('mcu', 0.007935068),\n",
      "   ('larson', 0.007217314),\n",
      "   ('man', 0.007150797),\n",
      "   ('smile', 0.0067753107),\n",
      "   ('brie', 0.0065569757),\n",
      "   ('look', 0.006174143),\n",
      "   ('day', 0.0060542827),\n",
      "   ('superhero', 0.005754679)]),\n",
      " (13,\n",
      "  [('trailer', 0.01583759),\n",
      "   ('woman', 0.010386562),\n",
      "   ('man', 0.0085650785),\n",
      "   ('brie', 0.008337341),\n",
      "   ('look', 0.007283284),\n",
      "   ('day', 0.0070431586),\n",
      "   ('larson', 0.006943641),\n",
      "   ('mcu', 0.006817967),\n",
      "   ('know', 0.006726607),\n",
      "   ('carol', 0.0066083972)]),\n",
      " (10,\n",
      "  [('trailer', 0.021461843),\n",
      "   ('woman', 0.012223328),\n",
      "   ('man', 0.008978008),\n",
      "   ('carol', 0.00879757),\n",
      "   ('know', 0.008339538),\n",
      "   ('smile', 0.0077277357),\n",
      "   ('look', 0.0069908155),\n",
      "   ('mcu', 0.006836372),\n",
      "   ('larson', 0.0063467217),\n",
      "   ('brie', 0.00629604)]),\n",
      " (17,\n",
      "  [('trailer', 0.019638153),\n",
      "   ('woman', 0.009164931),\n",
      "   ('smile', 0.008715391),\n",
      "   ('man', 0.0076276436),\n",
      "   ('brie', 0.0072087985),\n",
      "   ('look', 0.0066734715),\n",
      "   ('know', 0.006593689),\n",
      "   ('life', 0.006421471),\n",
      "   ('wonder', 0.0062749726),\n",
      "   ('love', 0.0059456965)])]\n"
     ]
    }
   ],
   "source": [
    "# Show Topics\n",
    "pprint(lda_model.show_topics(formatted=False))"
   ]
  },
  {
   "cell_type": "code",
   "execution_count": 43,
   "metadata": {},
   "outputs": [],
   "source": [
    "# k의 수(최적의 토픽 수) 를 찾아보기 \n",
    "#밑의 함수는 여러 LDA 모델을 교육하고 모델 및 해당하는 일관성 점수를 알려준다.\n",
    "def compute_coherence_values(dictionary, corpus, texts, limit, start=2, step=3):\n",
    "    \"\"\"\n",
    "    Compute c_v coherence for various number of topics\n",
    " \n",
    "    Parameters:\n",
    "    ----------\n",
    "    dictionary : Gensim dictionary\n",
    "    corpus : Gensim corpus\n",
    "    texts : List of input texts\n",
    "    limit : Max num of topics\n",
    " \n",
    "    Returns:\n",
    "    -------\n",
    "    model_list : List of LDA topic models\n",
    "    coherence_values : Coherence values corresponding to the LDA model with respective number of topics\n",
    "    \"\"\"\n",
    "    coherence_values = []\n",
    "    model_list = []\n",
    "    for num_topics in range(start, limit, step):\n",
    "        model=gensim.models.ldamodel.LdaModel(corpus=corpus,id2word=id2word,num_topics=num_topics,random_state=100,\n",
    "                                              update_every=1,chunksize=100,passes=10,alpha='auto',per_word_topics=True)\n",
    "        model_list.append(model)\n",
    "        coherencemodel = CoherenceModel(model=model, texts=texts, dictionary=dictionary, coherence='c_v')\n",
    "        coherence_values.append(coherencemodel.get_coherence())\n",
    " \n",
    "    return model_list, coherence_values"
   ]
  },
  {
   "cell_type": "code",
   "execution_count": 44,
   "metadata": {},
   "outputs": [],
   "source": [
    "# Can take a long time to run.\n",
    "model_list, coherence_values = compute_coherence_values(dictionary=id2word, corpus=corpus, texts=data_lemmatized, start=2, limit=20, step=3)"
   ]
  },
  {
   "cell_type": "code",
   "execution_count": 45,
   "metadata": {},
   "outputs": [
    {
     "data": {
      "image/png": "[encoded data removed]",
      "text/plain": [
       "<matplotlib.figure.Figure at 0x1fec817d9b0>"
      ]
     },
     "metadata": {
      "needs_background": "light"
     },
     "output_type": "display_data"
    }
   ],
   "source": [
    "# Show graph\n",
    "limit=20; start=2; step=3;\n",
    "x = range(start, limit, step)\n",
    "plt.plot(x, coherence_values)\n",
    "plt.xlabel(\"Num Topics\")\n",
    "plt.ylabel(\"Coherence score\")\n",
    "plt.legend((\"coherence_values\"), loc='best')\n",
    "plt.show()"
   ]
  },
  {
   "cell_type": "code",
   "execution_count": 46,
   "metadata": {},
   "outputs": [
    {
     "name": "stdout",
     "output_type": "stream",
     "text": [
      "Num Topics = 2  has Coherence Value of 0.8719\n",
      "Num Topics = 5  has Coherence Value of 0.8705\n",
      "Num Topics = 8  has Coherence Value of 0.8702\n",
      "Num Topics = 11  has Coherence Value of 0.8695\n",
      "Num Topics = 14  has Coherence Value of 0.8648\n",
      "Num Topics = 17  has Coherence Value of 0.8646\n"
     ]
    }
   ],
   "source": [
    "# Print the coherence scores 가장 일관성 높은 모델 선택\n",
    "for m, cv in zip(x, coherence_values):\n",
    "    print(\"Num Topics =\", m, \" has Coherence Value of\", round(cv, 4))"
   ]
  },
  {
   "cell_type": "code",
   "execution_count": 47,
   "metadata": {
    "scrolled": true
   },
   "outputs": [
    {
     "name": "stdout",
     "output_type": "stream",
     "text": [
      "[(0,\n",
      "  '0.020*\"brand\" + 0.019*\"fan\" + 0.018*\"game\" + 0.017*\"hero\" + 0.016*\"teaser\" '\n",
      "  '+ 0.015*\"photo\" + 0.015*\"arrive\" + 0.015*\"tune\" + 0.014*\"cinematic\" + '\n",
      "  '0.014*\"live\"'),\n",
      " (1,\n",
      "  '0.022*\"hero\" + 0.021*\"game\" + 0.020*\"fan\" + 0.019*\"brand\" + 0.016*\"trip\" + '\n",
      "  '0.015*\"king\" + 0.015*\"exclusive\" + 0.014*\"chance\" + 0.013*\"update\" + '\n",
      "  '0.013*\"available\"')]\n"
     ]
    }
   ],
   "source": [
    "# Select the model and print the topics\n",
    "optimal_model = model_list[0] #여긴 경우에 따라 고치기\n",
    "model_topics = optimal_model.show_topics(formatted=False)\n",
    "pprint(optimal_model.print_topics(num_words=10))"
   ]
  },
  {
   "cell_type": "code",
   "execution_count": 49,
   "metadata": {},
   "outputs": [],
   "source": [
    "## mallet\n",
    "\n",
    "# mallet_path = 'C:/temp/mallet-2.0.8/bin/mallet' # update this path\n",
    "# ldamallet = gensim.models.wrappers.LdaMallet(mallet_path, corpus=corpus, num_topics=20, id2word=id2word)\n",
    "# pprint(ldamallet.show_topics(formatted=False))\n",
    " \n",
    "# Compute Coherence Score\n",
    "# coherence_model_ldamallet = CoherenceModel(model=ldamallet, texts=data_lemmatized, dictionary=id2word, coherence='c_v')\n",
    "# coherence_ldamallet = coherence_model_ldamallet.get_coherence()\n",
    "# print('\\nCoherence Score: ', coherence_ldamallet)"
   ]
  }
 ],
 "metadata": {
  "kernelspec": {
   "display_name": "Python 3",
   "language": "python",
   "name": "python3"
  },
  "language_info": {
   "codemirror_mode": {
    "name": "ipython",
    "version": 3
   },
   "file_extension": ".py",
   "mimetype": "text/x-python",
   "name": "python",
   "nbconvert_exporter": "python",
   "pygments_lexer": "ipython3",
   "version": "3.6.6"
  }
 },
 "nbformat": 4,
 "nbformat_minor": 2
}
