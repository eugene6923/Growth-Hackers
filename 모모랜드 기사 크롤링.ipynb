{
 "cells": [
  {
   "cell_type": "code",
   "execution_count": 2,
   "metadata": {},
   "outputs": [
    {
     "name": "stdout",
     "output_type": "stream",
     "text": [
      "채리나 앞트임에 성형 부작용 고백한 스타보니 '모모랜드 주이-한현남-김지혜...\n",
      "'붐붐파워' 붐, 모모랜드(MOMOLAND) 주이·혜빈과 '넘치는 케미'\n",
      "'나의 영어 사춘기' 모모랜드 데이지, 열렬한 남학생 팬에 과외 도전…'훈훈'\n",
      "모모랜드 나윤, 깜짝 생일 서포트 돌입…참여 방법은?\n",
      "구구단 세미나 나영 VS 모모랜드 주이, 엘프美 뿜뿜 ‘금발 웨이브’ 대결\n",
      "'나수사' 모모랜드 데이지 깜짝 고백 \"수학 18점 맞은 적도\"\n",
      "슈퍼주니어 려욱 전역 \"힘이 돼준 걸그룹 너무 많다. 레드벨벳·트와이스·모...\n",
      "[오늘의 별자리 운세] 워너원 황민현-여자친구 예린-모모랜드 주이 속한 사자...\n",
      "모모랜드(MOMOLAND) 주이-연우, 대세 멤버들의 투샷…'교복도 완벽 소화'\n",
      "모모랜드 ‘배엠’ MV 2500만뷰 공약 지켰다, 게릴라 콘서트 개최\n",
      "0\n",
      "'뜻밖의 Q' 신지-모모랜드 주이, 신구 흥부자 하드캐리 퀴즈 풀이\n",
      "‘뜻밖의 Q’ 신지-모모랜드 주이, 신구 흥부자 하드캐리 퀴즈 풀이\n",
      "‘아는형님’ 헬로비너스 나라X모모랜드 연우, 반전매력에 빠지겠네 [TV줌인]\n",
      "‘아는 형님’ 모모랜드 주이, 성형고백?\n",
      "모모랜드 주이, 지금과 다른 미모...과거 사진 '포착'\n",
      "'뜻밖의 Q' 모모랜드 주이, 한우 받고 흥 폭발 댄스 '최고의 1분'\n",
      "‘아는 형님’ 모모랜드 연우 주이 강호동과 댄스 콜라보 무대 선사\n",
      "'인기가요' 모모랜드 흥 많은 소녀들의 'BAAM'\n",
      "[M+★SNS] 모모랜드 “‘아는형님’에 뜬 연우X주이”…미모·예능감 뿜뿜\n",
      "모모랜드 낸시·나윤 화보, “롤모델 크리스탈-현아..노력하는 모습 멋져”\n",
      "1\n",
      "'아는 형님' 모모랜드 주이 \"귀 연골 없다…코로 갔다\" 성형 고백 [시선강탈]\n",
      "[TV풍향계] '아는 형님' 모모랜드 주이X헬로비너스 나라, 서장훈과 특별한 에...\n",
      "모모랜드 주이 과거사진, 데뷔 전 모습보니? \"이 때가 더 예쁜 연예인\"\n",
      "'아는형님' 모모랜드 주이, 상큼나라 공주 '과즙미 뿜뿜'\n",
      "\"강호동 아니었으면 뿜뿜 없을 것\" 고마움 전한 모모랜드 주이·연우\n",
      "[RE:TV] '아는형님' 주이X나라, 모모랜드·헬로비너스로 또 봐요\n",
      "‘아는 형님’ 모모랜드, ‘뿜뿜’ 안무 원작자 강호동과 콜라보 무대 성사\n",
      "모모랜드(MOMOLAND) 낸시, 화려한 이목구비+초록 머리…'여신인가요'\n",
      "모모랜드 연우X주이, 바람대로 '아는형님' 출격\n",
      "“예쁨 폭발” 모모랜드, 보고 있으면 즐거워지는 소녀들\n",
      "2\n",
      "[HI★리뷰] ‘뜻밖의 Q’ 모모랜드 주이, 댄스 삼매경에 MVP까지 ‘진정한 흥...\n",
      "‘아는형님’ 모모랜드 연우 “父가 다큐멘터리 감독, 연기 해보고파”\n",
      "‘아는 형님’ 모모랜드, 강호동과 깜짝 컬래버래이션 댄스…“‘뿜뿜’, 강호...\n",
      "모모랜드, 치어리더룩 완벽 소화 \"신나는 주말 보내요\"\n",
      "낸시X나윤 \"'뿜뿜'으로 모모랜드 인지도 상승\"\n",
      "모모랜드 연우X주이… 과즙美 '뿜뿜' 넘치는 셀카 공개 \"'아는 형님'에서 만나...\n",
      "[여돌학개론] 사재기 의혹 벗은 모모랜드, 음원 성적 다음 과제는 팬덤 형성\n",
      "[오늘의 별자리 운세] 워너원 황민현-여자친구 예린-모모랜드 주이 속한 사자...\n",
      "‘뜻밖의 Q’ 모모랜드 주이, 범접할 수 없는 흥…전현무 “술 마셨냐”\n",
      "'아형' 모모랜드 주이 \"서장훈과 광고 촬영, 조금 예민하더라\" 폭소\n",
      "3\n",
      "에러발생\n",
      "에러발생\n",
      "에러발생\n",
      "에러발생\n",
      "에러발생\n",
      "에러발생\n",
      "에러발생\n",
      "에러발생\n",
      "에러발생\n",
      "에러발생\n",
      "4\n"
     ]
    },
    {
     "ename": "WebDriverException",
     "evalue": "Message: chrome not reachable\n  (Session info: chrome=67.0.3396.99)\n  (Driver info: chromedriver=2.40.565498 (ea082db3280dd6843ebfb08a625e3eb905c4f5ab),platform=Windows NT 10.0.17134 x86_64)\n",
     "output_type": "error",
     "traceback": [
      "\u001b[1;31m---------------------------------------------------------------------------\u001b[0m",
      "\u001b[1;31mWebDriverException\u001b[0m                        Traceback (most recent call last)",
      "\u001b[1;32m<ipython-input-2-22f36451db71>\u001b[0m in \u001b[0;36m<module>\u001b[1;34m()\u001b[0m\n\u001b[0;32m     26\u001b[0m \u001b[1;33m\u001b[0m\u001b[0m\n\u001b[0;32m     27\u001b[0m     \u001b[0mprint\u001b[0m\u001b[1;33m(\u001b[0m\u001b[0mi\u001b[0m\u001b[1;33m)\u001b[0m\u001b[1;33m\u001b[0m\u001b[0m\n\u001b[1;32m---> 28\u001b[1;33m     \u001b[0mdriver\u001b[0m\u001b[1;33m.\u001b[0m\u001b[0mfind_element_by_css_selector\u001b[0m\u001b[1;33m(\u001b[0m\u001b[1;34m'#main_pack > div.paging > a.next'\u001b[0m\u001b[1;33m)\u001b[0m\u001b[1;33m.\u001b[0m\u001b[0mclick\u001b[0m\u001b[1;33m(\u001b[0m\u001b[1;33m)\u001b[0m\u001b[1;33m\u001b[0m\u001b[0m\n\u001b[0m\u001b[0;32m     29\u001b[0m     \u001b[0mtime\u001b[0m\u001b[1;33m.\u001b[0m\u001b[0msleep\u001b[0m\u001b[1;33m(\u001b[0m\u001b[1;36m2\u001b[0m\u001b[1;33m)\u001b[0m\u001b[1;33m\u001b[0m\u001b[0m\n\u001b[0;32m     30\u001b[0m \u001b[1;33m\u001b[0m\u001b[0m\n",
      "\u001b[1;32m~\\Anaconda3\\lib\\site-packages\\selenium\\webdriver\\remote\\webdriver.py\u001b[0m in \u001b[0;36mfind_element_by_css_selector\u001b[1;34m(self, css_selector)\u001b[0m\n\u001b[0;32m    595\u001b[0m             \u001b[0melement\u001b[0m \u001b[1;33m=\u001b[0m \u001b[0mdriver\u001b[0m\u001b[1;33m.\u001b[0m\u001b[0mfind_element_by_css_selector\u001b[0m\u001b[1;33m(\u001b[0m\u001b[1;34m'#foo'\u001b[0m\u001b[1;33m)\u001b[0m\u001b[1;33m\u001b[0m\u001b[0m\n\u001b[0;32m    596\u001b[0m         \"\"\"\n\u001b[1;32m--> 597\u001b[1;33m         \u001b[1;32mreturn\u001b[0m \u001b[0mself\u001b[0m\u001b[1;33m.\u001b[0m\u001b[0mfind_element\u001b[0m\u001b[1;33m(\u001b[0m\u001b[0mby\u001b[0m\u001b[1;33m=\u001b[0m\u001b[0mBy\u001b[0m\u001b[1;33m.\u001b[0m\u001b[0mCSS_SELECTOR\u001b[0m\u001b[1;33m,\u001b[0m \u001b[0mvalue\u001b[0m\u001b[1;33m=\u001b[0m\u001b[0mcss_selector\u001b[0m\u001b[1;33m)\u001b[0m\u001b[1;33m\u001b[0m\u001b[0m\n\u001b[0m\u001b[0;32m    598\u001b[0m \u001b[1;33m\u001b[0m\u001b[0m\n\u001b[0;32m    599\u001b[0m     \u001b[1;32mdef\u001b[0m \u001b[0mfind_elements_by_css_selector\u001b[0m\u001b[1;33m(\u001b[0m\u001b[0mself\u001b[0m\u001b[1;33m,\u001b[0m \u001b[0mcss_selector\u001b[0m\u001b[1;33m)\u001b[0m\u001b[1;33m:\u001b[0m\u001b[1;33m\u001b[0m\u001b[0m\n",
      "\u001b[1;32m~\\Anaconda3\\lib\\site-packages\\selenium\\webdriver\\remote\\webdriver.py\u001b[0m in \u001b[0;36mfind_element\u001b[1;34m(self, by, value)\u001b[0m\n\u001b[0;32m    964\u001b[0m         return self.execute(Command.FIND_ELEMENT, {\n\u001b[0;32m    965\u001b[0m             \u001b[1;34m'using'\u001b[0m\u001b[1;33m:\u001b[0m \u001b[0mby\u001b[0m\u001b[1;33m,\u001b[0m\u001b[1;33m\u001b[0m\u001b[0m\n\u001b[1;32m--> 966\u001b[1;33m             'value': value})['value']\n\u001b[0m\u001b[0;32m    967\u001b[0m \u001b[1;33m\u001b[0m\u001b[0m\n\u001b[0;32m    968\u001b[0m     \u001b[1;32mdef\u001b[0m \u001b[0mfind_elements\u001b[0m\u001b[1;33m(\u001b[0m\u001b[0mself\u001b[0m\u001b[1;33m,\u001b[0m \u001b[0mby\u001b[0m\u001b[1;33m=\u001b[0m\u001b[0mBy\u001b[0m\u001b[1;33m.\u001b[0m\u001b[0mID\u001b[0m\u001b[1;33m,\u001b[0m \u001b[0mvalue\u001b[0m\u001b[1;33m=\u001b[0m\u001b[1;32mNone\u001b[0m\u001b[1;33m)\u001b[0m\u001b[1;33m:\u001b[0m\u001b[1;33m\u001b[0m\u001b[0m\n",
      "\u001b[1;32m~\\Anaconda3\\lib\\site-packages\\selenium\\webdriver\\remote\\webdriver.py\u001b[0m in \u001b[0;36mexecute\u001b[1;34m(self, driver_command, params)\u001b[0m\n\u001b[0;32m    318\u001b[0m         \u001b[0mresponse\u001b[0m \u001b[1;33m=\u001b[0m \u001b[0mself\u001b[0m\u001b[1;33m.\u001b[0m\u001b[0mcommand_executor\u001b[0m\u001b[1;33m.\u001b[0m\u001b[0mexecute\u001b[0m\u001b[1;33m(\u001b[0m\u001b[0mdriver_command\u001b[0m\u001b[1;33m,\u001b[0m \u001b[0mparams\u001b[0m\u001b[1;33m)\u001b[0m\u001b[1;33m\u001b[0m\u001b[0m\n\u001b[0;32m    319\u001b[0m         \u001b[1;32mif\u001b[0m \u001b[0mresponse\u001b[0m\u001b[1;33m:\u001b[0m\u001b[1;33m\u001b[0m\u001b[0m\n\u001b[1;32m--> 320\u001b[1;33m             \u001b[0mself\u001b[0m\u001b[1;33m.\u001b[0m\u001b[0merror_handler\u001b[0m\u001b[1;33m.\u001b[0m\u001b[0mcheck_response\u001b[0m\u001b[1;33m(\u001b[0m\u001b[0mresponse\u001b[0m\u001b[1;33m)\u001b[0m\u001b[1;33m\u001b[0m\u001b[0m\n\u001b[0m\u001b[0;32m    321\u001b[0m             response['value'] = self._unwrap_value(\n\u001b[0;32m    322\u001b[0m                 response.get('value', None))\n",
      "\u001b[1;32m~\\Anaconda3\\lib\\site-packages\\selenium\\webdriver\\remote\\errorhandler.py\u001b[0m in \u001b[0;36mcheck_response\u001b[1;34m(self, response)\u001b[0m\n\u001b[0;32m    240\u001b[0m                 \u001b[0malert_text\u001b[0m \u001b[1;33m=\u001b[0m \u001b[0mvalue\u001b[0m\u001b[1;33m[\u001b[0m\u001b[1;34m'alert'\u001b[0m\u001b[1;33m]\u001b[0m\u001b[1;33m.\u001b[0m\u001b[0mget\u001b[0m\u001b[1;33m(\u001b[0m\u001b[1;34m'text'\u001b[0m\u001b[1;33m)\u001b[0m\u001b[1;33m\u001b[0m\u001b[0m\n\u001b[0;32m    241\u001b[0m             \u001b[1;32mraise\u001b[0m \u001b[0mexception_class\u001b[0m\u001b[1;33m(\u001b[0m\u001b[0mmessage\u001b[0m\u001b[1;33m,\u001b[0m \u001b[0mscreen\u001b[0m\u001b[1;33m,\u001b[0m \u001b[0mstacktrace\u001b[0m\u001b[1;33m,\u001b[0m \u001b[0malert_text\u001b[0m\u001b[1;33m)\u001b[0m\u001b[1;33m\u001b[0m\u001b[0m\n\u001b[1;32m--> 242\u001b[1;33m         \u001b[1;32mraise\u001b[0m \u001b[0mexception_class\u001b[0m\u001b[1;33m(\u001b[0m\u001b[0mmessage\u001b[0m\u001b[1;33m,\u001b[0m \u001b[0mscreen\u001b[0m\u001b[1;33m,\u001b[0m \u001b[0mstacktrace\u001b[0m\u001b[1;33m)\u001b[0m\u001b[1;33m\u001b[0m\u001b[0m\n\u001b[0m\u001b[0;32m    243\u001b[0m \u001b[1;33m\u001b[0m\u001b[0m\n\u001b[0;32m    244\u001b[0m     \u001b[1;32mdef\u001b[0m \u001b[0m_value_or_default\u001b[0m\u001b[1;33m(\u001b[0m\u001b[0mself\u001b[0m\u001b[1;33m,\u001b[0m \u001b[0mobj\u001b[0m\u001b[1;33m,\u001b[0m \u001b[0mkey\u001b[0m\u001b[1;33m,\u001b[0m \u001b[0mdefault\u001b[0m\u001b[1;33m)\u001b[0m\u001b[1;33m:\u001b[0m\u001b[1;33m\u001b[0m\u001b[0m\n",
      "\u001b[1;31mWebDriverException\u001b[0m: Message: chrome not reachable\n  (Session info: chrome=67.0.3396.99)\n  (Driver info: chromedriver=2.40.565498 (ea082db3280dd6843ebfb08a625e3eb905c4f5ab),platform=Windows NT 10.0.17134 x86_64)\n"
     ]
    }
   ],
   "source": [
    "from selenium import webdriver\n",
    "from selenium.webdriver.support.ui import WebDriverWait\n",
    "from selenium.webdriver.support.ui import Select\n",
    "import pickle\n",
    "\n",
    "import time\n",
    "\n",
    "driver = webdriver.Chrome(\"C:\\\\temp\\\\chromedriver.exe\")\n",
    "driver.get(\"https://search.naver.com/search.naver?where=news&sm=tab_jum&query=%EB%AA%A8%EB%AA%A8%EB%9E%9C%EB%93%9C\")\n",
    "driver.implicitly_wait(1)\n",
    "driver.maximize_window()\n",
    "\n",
    "wait = WebDriverWait(driver, 100)\n",
    "\n",
    "data = []\n",
    "\n",
    "\n",
    "for i in range(10):\n",
    "    for j in range(10):\n",
    "        try:\n",
    "            text = driver.find_element_by_xpath('//*[@id=\"main_pack\"]/div[2]/ul/li[{}]/dl/dt/a'.format(j+1)).text\n",
    "            print(text)\n",
    "            data.append(text)\n",
    "        except:\n",
    "            print(\"에러발생\")\n",
    "\n",
    "    print(i)\n",
    "    driver.find_element_by_css_selector('#main_pack > div.paging > a.next').click()\n",
    "    time.sleep(2)\n",
    "\n",
    "print(data)\n",
    "\n",
    "with open(\"c:\\\\temp\\\\유진.txt\", \"wb\") as f:\n",
    "    pickle.dump(data, f)\n"
   ]
  },
  {
   "cell_type": "code",
   "execution_count": null,
   "metadata": {},
   "outputs": [],
   "source": []
  },
  {
   "cell_type": "code",
   "execution_count": null,
   "metadata": {},
   "outputs": [],
   "source": []
  }
 ],
 "metadata": {
  "kernelspec": {
   "display_name": "Python 3",
   "language": "python",
   "name": "python3"
  },
  "language_info": {
   "codemirror_mode": {
    "name": "ipython",
    "version": 3
   },
   "file_extension": ".py",
   "mimetype": "text/x-python",
   "name": "python",
   "nbconvert_exporter": "python",
   "pygments_lexer": "ipython3",
   "version": "3.6.4"
  }
 },
 "nbformat": 4,
 "nbformat_minor": 2
}
